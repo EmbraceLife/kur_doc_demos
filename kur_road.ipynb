{
 "cells": [
  {
   "cell_type": "markdown",
   "metadata": {},
   "source": [
    "## How to get Kur started\n",
    "- install: `pip install kur`\n",
    "- check: `kur --version`\n",
    "- train: `kur -v train mnist.yml`\n",
    "- test: `kur -v test mnist.yml`\n",
    "- evaluate: `kur -v evaluate mnist.yml`\n",
    "- detailed process: `-v`(detail) or `-vv` (more detailed)\n",
    "- to speed up: use 480 out of 60000 training data, 10 batches 32 each, 160 test data\n",
    "\n"
   ]
  },
  {
   "cell_type": "code",
   "execution_count": 1,
   "metadata": {
    "collapsed": false,
    "scrolled": true
   },
   "outputs": [
    {
     "name": "stdout",
     "output_type": "stream",
     "text": [
      "Kur, by Deepgram -- deep learning made easy\r\n",
      "Version: 0.3.0\r\n",
      "Homepage: https://kur.deepgram.com\r\n"
     ]
    }
   ],
   "source": [
    "!kur --version"
   ]
  },
  {
   "cell_type": "markdown",
   "metadata": {},
   "source": [
    "## mnist.yml to accompany mnist-default.yml\n",
    "```yml\n",
    "\ttrain:\n",
    "\t  data:  # to get data \n",
    "\t    - mnist:                 # it looks very different from Kurfile template on dataset? #############\n",
    "\t        images:\n",
    "\t          url: \"http://yann.lecun.com/exdb/mnist/train-images-idx3-ubyte.gz\"\n",
    "\t        labels:\n",
    "\t          url: \"http://yann.lecun.com/exdb/mnist/train-labels-idx1-ubyte.gz\"\n",
    "\n",
    "\tmodel:\n",
    "\t  - input: images\n",
    "\n",
    "\t  - convolution:\n",
    "\t      kernels: 64\n",
    "\t      size: [2, 2]\n",
    "\t  - activation: relu\n",
    "\n",
    "\t  - convolution:\n",
    "\t      kernels: 96\n",
    "\t      size: [2, 2]\n",
    "\t  - activation: relu\n",
    "\n",
    "      - pool: [3, 3]                  # add a pooling layer with shape 3x3\n",
    "\n",
    "\t  - convolution:\n",
    "\t      kernels: 96\n",
    "\t      size: [2, 2]\n",
    "\t  - activation: relu\n",
    "\n",
    "\t  - flatten:\n",
    "\t  - dense: [64, 10]\n",
    "      \n",
    "\t  - activation: softmax      # apply softmax activation to output layer\n",
    "\t    name: labels             # why no `-`? do I need to know Ninja2 to understand the usage   ? ######\n",
    "        \n",
    "\n",
    "\tinclude: mnist-defaults.yml  # to define default setting \n",
    "```"
   ]
  },
  {
   "cell_type": "code",
   "execution_count": 12,
   "metadata": {
    "collapsed": false
   },
   "outputs": [],
   "source": [
    "%pycat mnist.yml # to display the file content in a seperate window"
   ]
  },
  {
   "cell_type": "markdown",
   "metadata": {},
   "source": [
    "## Understanding mnist-default.yml\n",
    "- more complex models demand more data\n",
    "- as more complex model has more parameters which increase the likelihood of overfitting\n",
    "- more data can reduce overfitting \n",
    "- we can get rid of the line `num_batches: 10` from `mnist-defaults.yml` to use the entire dataset\n",
    "\n",
    "```yaml\n",
    "---\n",
    "                         # Declare the loss function that is used during training/validation/testing.\n",
    "loss:\n",
    "                         # It is a list of loss functions, one for each model output.\n",
    "                         # The MNIST example only has one output, named \"labels\".\n",
    "  - target: labels\n",
    "    name: categorical_crossentropy\n",
    "\n",
    "                         # The \"include\" section in \"mnist.yml\" is magical, and will merge this section\n",
    "                         # into the section in \"mnist.yml\".\n",
    "                         ######## merge: this entire mnist-default.yml, not a few lines here? ##############\n",
    "train:\n",
    "                         # Let's include checksums for all of the data we download.\n",
    "                         # note: in mnist.yml there are urls for dataset downloading for training set\n",
    "                         ######## what is checksums for?                                ####################\n",
    "  data:\n",
    "    - mnist:\n",
    "        images:\n",
    "          checksum: 440fcabf73cc546fa21475e81ea370265605f56be210a4024d2ca8f203523609\n",
    "          path: \"~/kur\"  # why didn't find dataset in the folder                                  ##########\n",
    "        labels:\n",
    "          checksum: 3552534a0a558bbed6aed32b30c495cca23d567ec52cac8be1a0730e8010255c\n",
    "          path: \"~/kur\"\n",
    "\n",
    "                         # As we discuss in \"Examples\" in the documentation, we only train on the first\n",
    "                         # batches each epoch. This is just to make getting through the MNIST example\n",
    "                         # nice and quick on slow/CPU-only machines. If you have a GPU, feel free to\n",
    "                         # remove the \"provider:\" section entirely.\n",
    "  provider:\n",
    "    num_batches: 15\n",
    "\n",
    "                         # How many epochs to train for.\n",
    "  epochs: 10\n",
    "\n",
    "                         # Here, we use the MNIST test set as a validation set (more generally, you'll\n",
    "                         # want train, validation, and test sets; but we ignore this for the MNIST\n",
    "                         # example). The funky \"&validation\" is just a YAML anchor, so we can reference\n",
    "                         # this section later.\n",
    "validate: &validate\n",
    "  data:\n",
    "    - mnist:\n",
    "        images:          # why having url here, not in train.data section?               ###################\n",
    "                         # validation set is a different dataset ##\n",
    "          url: \"http://yann.lecun.com/exdb/mnist/t10k-images-idx3-ubyte.gz\"\n",
    "          checksum: 8d422c7b0a1c1c79245a5bcf07fe86e33eeafee792b84584aec276f5a2dbc4e6\n",
    "          path: \"~/kur\"\n",
    "        labels:\n",
    "          url: \"http://yann.lecun.com/exdb/mnist/t10k-labels-idx1-ubyte.gz\"\n",
    "          checksum: f7ae60f92e00ec6debd23a6088c31dbd2371eca3ffa0defaefb259924204aec6\n",
    "          path: \"~/kur\"\n",
    "\n",
    "                         # Let's also use less data for validation, just to speed it along.\n",
    "  provider:\n",
    "    num_batches: 100\n",
    "\n",
    "                         # Where to save the model weights that have the lowest validation loss.\n",
    "                         # above \"the lowest validation loss\" means the last loss value of 10 epochs? ######\n",
    "  weights: mnist.w\n",
    "\n",
    "                         # Let's define the test set, used if you execute something like:\n",
    "                         # `kur test mnist.yml`\n",
    "                         # The funky \"*validation\" is just a YAML alias, so we basically are setting the\n",
    "                         # \"test\" section\" to be the same as the \"validate\" section.\n",
    "                         # this is why `validate: &validate` is very necessary and useful ##################\n",
    "test: *validate\n",
    "\n",
    "                         # This is the evaluation section, used during `kur evaluate mnist.yml`.\n",
    "                         # The funky \"<<: *validate\" is just YAML, and basically means \"copy all of the\n",
    "                         # keys from 'validate', and then add/replace the \n",
    "                         # what does \"copy all the keys from 'validate' mean? and \"add/replace\" what? ######\n",
    "                         # but how exactly *validate and <<: *validate differ? #############################\n",
    "evaluate:\n",
    "  <<: *validate\n",
    "  \n",
    "                         # Use the entire testing set for evaluation.\n",
    "  provider:\n",
    "    num_batches: null\n",
    "\n",
    "                         # Where do we want to store the output file?\n",
    "                         # Here, we are just storing it as a Python pickle.\n",
    "                         # if needed, I can change destination by adding `folderName/`?#####################\n",
    "  destination: mnist.results.pkl\n",
    "\n",
    "                         # This is a list of post-processing hooks. Here, we want to produce the\n",
    "                         # digit-by-digit accuracy table (just called \"mnist\").\n",
    "                         # What exactly is such \"digit-by-digit accuracy table\"? ###########################\n",
    "  hooks:\n",
    "    - mnist\n",
    "...\n",
    "\n",
    "```"
   ]
  },
  {
   "cell_type": "code",
   "execution_count": 4,
   "metadata": {
    "collapsed": false
   },
   "outputs": [
    {
     "name": "stdout",
     "output_type": "stream",
     "text": [
      "/Users/Natsume/Downloads/kur/examples\n",
      "\u001b[1;37m[INFO 2017-02-26 13:37:49,072 kur.kurfile:638]\u001b[0m Parsing source: mnist.yml, included by top-level.\u001b[0m\n",
      "\u001b[1;37m[INFO 2017-02-26 13:37:49,079 kur.kurfile:638]\u001b[0m Parsing source: mnist-defaults.yml, included by mnist.yml.\u001b[0m\n",
      "\u001b[1;37m[INFO 2017-02-26 13:37:49,090 kur.kurfile:79]\u001b[0m Parsing Kurfile...\u001b[0m\n",
      "\u001b[1;37m[INFO 2017-02-26 13:37:49,961 kur.providers.batch_provider:54]\u001b[0m Batch size set to: 32\u001b[0m\n",
      "\u001b[1;37m[INFO 2017-02-26 13:37:49,962 kur.providers.batch_provider:60]\u001b[0m Maximum number of batches set to: 15\u001b[0m\n",
      "\u001b[1;37m[INFO 2017-02-26 13:37:50,098 kur.providers.batch_provider:54]\u001b[0m Batch size set to: 32\u001b[0m\n",
      "\u001b[1;37m[INFO 2017-02-26 13:37:50,098 kur.providers.batch_provider:60]\u001b[0m Maximum number of batches set to: 100\u001b[0m\n",
      "\u001b[1;37m[INFO 2017-02-26 13:37:50,099 kur.backend.backend:80]\u001b[0m Creating backend: keras\u001b[0m\n",
      "\u001b[1;37m[INFO 2017-02-26 13:37:50,099 kur.backend.backend:83]\u001b[0m Backend variants: none\u001b[0m\n",
      "\u001b[1;37m[INFO 2017-02-26 13:37:50,099 kur.backend.keras_backend:122]\u001b[0m No particular backend for Keras has been requested.\u001b[0m\n",
      "\u001b[1;37m[INFO 2017-02-26 13:37:51,162 kur.backend.keras_backend:191]\u001b[0m Keras is loaded. The backend is: theano\u001b[0m\n",
      "\u001b[1;37m[INFO 2017-02-26 13:37:51,163 kur.model.model:260]\u001b[0m Enumerating the model containers.\u001b[0m\n",
      "\u001b[1;37m[INFO 2017-02-26 13:37:51,163 kur.model.model:265]\u001b[0m Assembling the model dependency graph.\u001b[0m\n",
      "\u001b[1;37m[INFO 2017-02-26 13:37:51,163 kur.model.model:280]\u001b[0m Connecting the model graph.\u001b[0m\n",
      "\u001b[1;37m[INFO 2017-02-26 13:37:52,034 kur.model.model:284]\u001b[0m Model inputs:  images\u001b[0m\n",
      "\u001b[1;37m[INFO 2017-02-26 13:37:52,034 kur.model.model:285]\u001b[0m Model outputs: labels\u001b[0m\n",
      "\u001b[1;37m[INFO 2017-02-26 13:37:53,425 kur.providers.batch_provider:54]\u001b[0m Batch size set to: 2\u001b[0m\n",
      "\u001b[1;37m[INFO 2017-02-26 13:37:53,425 kur.providers.batch_provider:60]\u001b[0m Maximum number of batches set to: 1\u001b[0m\n",
      "\u001b[1;37m[INFO 2017-02-26 13:37:53,434 kur.backend.keras_backend:654]\u001b[0m Waiting for model to finish compiling...\u001b[0m\n",
      "\u001b[1;37m[INFO 2017-02-26 13:37:53,515 kur.model.executor:246]\u001b[0m No log specified, so no historical loss information is available.\u001b[0m\n",
      "\u001b[1;37m[INFO 2017-02-26 13:37:53,515 kur.model.executor:270]\u001b[0m No previous epochs.\u001b[0m\n",
      "\n",
      "Epoch 1/10, loss=1.712: 100%|███████████| 480/480 [00:01<00:00, 397.66samples/s]\n",
      "\u001b[1;37m[INFO 2017-02-26 13:37:54,663 kur.model.executor:390]\u001b[0m Training loss: 1.712\u001b[0m\n",
      "\u001b[1;37m[INFO 2017-02-26 13:37:55,065 kur.providers.batch_provider:54]\u001b[0m Batch size set to: 2\u001b[0m\n",
      "\u001b[1;37m[INFO 2017-02-26 13:37:55,065 kur.providers.batch_provider:60]\u001b[0m Maximum number of batches set to: 1\u001b[0m\n",
      "\u001b[1;37m[INFO 2017-02-26 13:37:55,073 kur.backend.keras_backend:654]\u001b[0m Waiting for model to finish compiling...\u001b[0m\n",
      "Validating, loss=0.948: 100%|████████| 3200/3200 [00:01<00:00, 2551.59samples/s]\n",
      "\u001b[1;37m[INFO 2017-02-26 13:37:56,333 kur.model.executor:175]\u001b[0m Validation loss: 0.948\u001b[0m\n",
      "\u001b[1;37m[INFO 2017-02-26 13:37:56,333 kur.model.executor:422]\u001b[0m Saving best historical validation weights: mnist.w\u001b[0m\n",
      "\n",
      "Epoch 2/10, loss=0.782: 100%|███████████| 480/480 [00:01<00:00, 415.40samples/s]\n",
      "\u001b[1;37m[INFO 2017-02-26 13:37:57,448 kur.model.executor:390]\u001b[0m Training loss: 0.782\u001b[0m\n",
      "Validating, loss=0.566: 100%|████████| 3200/3200 [00:01<00:00, 2633.65samples/s]\n",
      "\u001b[1;37m[INFO 2017-02-26 13:37:58,664 kur.model.executor:175]\u001b[0m Validation loss: 0.566\u001b[0m\n",
      "\u001b[1;37m[INFO 2017-02-26 13:37:58,664 kur.model.executor:422]\u001b[0m Saving best historical validation weights: mnist.w\u001b[0m\n",
      "\n",
      "Epoch 3/10, loss=0.521: 100%|███████████| 480/480 [00:01<00:00, 449.31samples/s]\n",
      "\u001b[1;37m[INFO 2017-02-26 13:37:59,703 kur.model.executor:390]\u001b[0m Training loss: 0.521\u001b[0m\n",
      "Validating, loss=0.441: 100%|████████| 3200/3200 [00:01<00:00, 2522.63samples/s]\n",
      "\u001b[1;37m[INFO 2017-02-26 13:38:00,972 kur.model.executor:175]\u001b[0m Validation loss: 0.441\u001b[0m\n",
      "\u001b[1;37m[INFO 2017-02-26 13:38:00,972 kur.model.executor:422]\u001b[0m Saving best historical validation weights: mnist.w\u001b[0m\n",
      "\n",
      "Epoch 4/10, loss=0.459: 100%|███████████| 480/480 [00:01<00:00, 343.19samples/s]\n",
      "\u001b[1;37m[INFO 2017-02-26 13:38:02,355 kur.model.executor:390]\u001b[0m Training loss: 0.459\u001b[0m\n",
      "Validating, loss=0.379: 100%|████████| 3200/3200 [00:01<00:00, 2389.84samples/s]\n",
      "\u001b[1;37m[INFO 2017-02-26 13:38:03,695 kur.model.executor:175]\u001b[0m Validation loss: 0.379\u001b[0m\n",
      "\u001b[1;37m[INFO 2017-02-26 13:38:03,695 kur.model.executor:422]\u001b[0m Saving best historical validation weights: mnist.w\u001b[0m\n",
      "\n",
      "Epoch 5/10, loss=0.461: 100%|███████████| 480/480 [00:01<00:00, 447.42samples/s]\n",
      "\u001b[1;37m[INFO 2017-02-26 13:38:04,744 kur.model.executor:390]\u001b[0m Training loss: 0.461\u001b[0m\n",
      "Validating, loss=0.378: 100%|████████| 3200/3200 [00:01<00:00, 2561.96samples/s]\n",
      "\u001b[1;37m[INFO 2017-02-26 13:38:05,993 kur.model.executor:175]\u001b[0m Validation loss: 0.378\u001b[0m\n",
      "\u001b[1;37m[INFO 2017-02-26 13:38:05,993 kur.model.executor:422]\u001b[0m Saving best historical validation weights: mnist.w\u001b[0m\n",
      "\n",
      "Epoch 6/10, loss=0.410: 100%|███████████| 480/480 [00:01<00:00, 424.57samples/s]\n",
      "\u001b[1;37m[INFO 2017-02-26 13:38:07,087 kur.model.executor:390]\u001b[0m Training loss: 0.410\u001b[0m\n",
      "Validating, loss=0.381: 100%|████████| 3200/3200 [00:01<00:00, 2593.47samples/s]\n",
      "\u001b[1;37m[INFO 2017-02-26 13:38:08,322 kur.model.executor:175]\u001b[0m Validation loss: 0.381\u001b[0m\n",
      "\n",
      "Epoch 7/10, loss=0.331: 100%|███████████| 480/480 [00:01<00:00, 427.00samples/s]\n",
      "\u001b[1;37m[INFO 2017-02-26 13:38:09,394 kur.model.executor:390]\u001b[0m Training loss: 0.331\u001b[0m\n",
      "Validating, loss=0.379: 100%|████████| 3200/3200 [00:01<00:00, 2491.69samples/s]\n",
      "\u001b[1;37m[INFO 2017-02-26 13:38:10,679 kur.model.executor:175]\u001b[0m Validation loss: 0.379\u001b[0m\n",
      "\n",
      "Epoch 8/10, loss=0.409: 100%|███████████| 480/480 [00:01<00:00, 330.56samples/s]\n",
      "\u001b[1;37m[INFO 2017-02-26 13:38:12,120 kur.model.executor:390]\u001b[0m Training loss: 0.409\u001b[0m\n",
      "Validating, loss=0.363: 100%|████████| 3200/3200 [00:01<00:00, 2067.38samples/s]\n",
      "\u001b[1;37m[INFO 2017-02-26 13:38:13,669 kur.model.executor:175]\u001b[0m Validation loss: 0.363\u001b[0m\n",
      "\u001b[1;37m[INFO 2017-02-26 13:38:13,669 kur.model.executor:422]\u001b[0m Saving best historical validation weights: mnist.w\u001b[0m\n",
      "\n",
      "Epoch 9/10, loss=0.422: 100%|███████████| 480/480 [00:01<00:00, 337.39samples/s]\n",
      "\u001b[1;37m[INFO 2017-02-26 13:38:15,188 kur.model.executor:390]\u001b[0m Training loss: 0.422\u001b[0m\n",
      "Validating, loss=0.345: 100%|████████| 3200/3200 [00:01<00:00, 2262.09samples/s]\n",
      "\u001b[1;37m[INFO 2017-02-26 13:38:16,603 kur.model.executor:175]\u001b[0m Validation loss: 0.345\u001b[0m\n",
      "\u001b[1;37m[INFO 2017-02-26 13:38:16,603 kur.model.executor:422]\u001b[0m Saving best historical validation weights: mnist.w\u001b[0m\n",
      "\n",
      "Epoch 10/10, loss=0.346: 100%|██████████| 480/480 [00:01<00:00, 426.64samples/s]\n",
      "\u001b[1;37m[INFO 2017-02-26 13:38:17,689 kur.model.executor:390]\u001b[0m Training loss: 0.346\u001b[0m\n",
      "Validating, loss=0.332: 100%|████████| 3200/3200 [00:01<00:00, 2230.54samples/s]\n",
      "\u001b[1;37m[INFO 2017-02-26 13:38:19,125 kur.model.executor:175]\u001b[0m Validation loss: 0.332\u001b[0m\n",
      "\u001b[1;37m[INFO 2017-02-26 13:38:19,125 kur.model.executor:422]\u001b[0m Saving best historical validation weights: mnist.w\u001b[0m\n",
      "Completed 10 epochs.\n"
     ]
    }
   ],
   "source": [
    "%pwd\n",
    "%cd /Users/Natsume/Downloads/kur/examples/\n",
    "!kur -v train mnist.yml"
   ]
  },
  {
   "cell_type": "code",
   "execution_count": 17,
   "metadata": {
    "collapsed": false
   },
   "outputs": [
    {
     "name": "stdout",
     "output_type": "stream",
     "text": [
      "\u001b[1;37m[INFO 2017-02-26 14:26:00,915 kur.kurfile:638]\u001b[0m Parsing source: mnist.yml, included by top-level.\u001b[0m\n",
      "\u001b[1;37m[INFO 2017-02-26 14:26:00,922 kur.kurfile:638]\u001b[0m Parsing source: mnist-defaults.yml, included by mnist.yml.\u001b[0m\n",
      "\u001b[1;37m[INFO 2017-02-26 14:26:00,938 kur.kurfile:79]\u001b[0m Parsing Kurfile...\u001b[0m\n",
      "\u001b[1;37m[INFO 2017-02-26 14:26:01,852 kur.providers.batch_provider:54]\u001b[0m Batch size set to: 32\u001b[0m\n",
      "\u001b[1;37m[INFO 2017-02-26 14:26:01,853 kur.providers.batch_provider:60]\u001b[0m Maximum number of batches set to: 15\u001b[0m\n",
      "\u001b[1;37m[INFO 2017-02-26 14:26:01,999 kur.providers.batch_provider:54]\u001b[0m Batch size set to: 32\u001b[0m\n",
      "\u001b[1;37m[INFO 2017-02-26 14:26:01,999 kur.providers.batch_provider:60]\u001b[0m Maximum number of batches set to: 100\u001b[0m\n",
      "\u001b[1;37m[INFO 2017-02-26 14:26:02,000 kur.backend.backend:80]\u001b[0m Creating backend: keras\u001b[0m\n",
      "\u001b[1;37m[INFO 2017-02-26 14:26:02,000 kur.backend.backend:83]\u001b[0m Backend variants: none\u001b[0m\n",
      "\u001b[1;37m[INFO 2017-02-26 14:26:02,000 kur.backend.keras_backend:122]\u001b[0m No particular backend for Keras has been requested.\u001b[0m\n",
      "\u001b[1;37m[INFO 2017-02-26 14:26:03,098 kur.backend.keras_backend:191]\u001b[0m Keras is loaded. The backend is: theano\u001b[0m\n",
      "\u001b[1;37m[INFO 2017-02-26 14:26:03,098 kur.model.model:260]\u001b[0m Enumerating the model containers.\u001b[0m\n",
      "\u001b[1;37m[INFO 2017-02-26 14:26:03,098 kur.model.model:265]\u001b[0m Assembling the model dependency graph.\u001b[0m\n",
      "\u001b[1;37m[INFO 2017-02-26 14:26:03,099 kur.model.model:280]\u001b[0m Connecting the model graph.\u001b[0m\n",
      "\u001b[1;37m[INFO 2017-02-26 14:26:03,975 kur.model.model:284]\u001b[0m Model inputs:  images\u001b[0m\n",
      "\u001b[1;37m[INFO 2017-02-26 14:26:03,975 kur.model.model:285]\u001b[0m Model outputs: labels\u001b[0m\n",
      "\u001b[1;37m[INFO 2017-02-26 14:26:05,446 kur.providers.batch_provider:54]\u001b[0m Batch size set to: 2\u001b[0m\n",
      "\u001b[1;37m[INFO 2017-02-26 14:26:05,446 kur.providers.batch_provider:60]\u001b[0m Maximum number of batches set to: 1\u001b[0m\n",
      "\u001b[1;37m[INFO 2017-02-26 14:26:05,459 kur.backend.keras_backend:654]\u001b[0m Waiting for model to finish compiling...\u001b[0m\n",
      "\u001b[1;37m[INFO 2017-02-26 14:26:05,600 kur.model.executor:246]\u001b[0m No log specified, so no historical loss information is available.\u001b[0m\n",
      "\u001b[1;37m[INFO 2017-02-26 14:26:05,600 kur.model.executor:270]\u001b[0m No previous epochs.\u001b[0m\n",
      "\n",
      "Epoch 1/10, loss=1.691: 100%|███████████| 480/480 [00:01<00:00, 345.28samples/s]\n",
      "\u001b[1;37m[INFO 2017-02-26 14:26:06,949 kur.model.executor:390]\u001b[0m Training loss: 1.691\u001b[0m\n",
      "\u001b[1;37m[INFO 2017-02-26 14:26:07,485 kur.providers.batch_provider:54]\u001b[0m Batch size set to: 2\u001b[0m\n",
      "\u001b[1;37m[INFO 2017-02-26 14:26:07,486 kur.providers.batch_provider:60]\u001b[0m Maximum number of batches set to: 1\u001b[0m\n",
      "\u001b[1;37m[INFO 2017-02-26 14:26:07,497 kur.backend.keras_backend:654]\u001b[0m Waiting for model to finish compiling...\u001b[0m\n",
      "Validating, loss=0.976: 100%|████████| 3200/3200 [00:03<00:00, 1031.02samples/s]\n",
      "\u001b[1;37m[INFO 2017-02-26 14:26:10,614 kur.model.executor:175]\u001b[0m Validation loss: 0.976\u001b[0m\n",
      "\u001b[1;37m[INFO 2017-02-26 14:26:10,614 kur.model.executor:422]\u001b[0m Saving best historical validation weights: mnist.w\u001b[0m\n",
      "\n",
      "Epoch 2/10, loss=0.719: 100%|███████████| 480/480 [00:02<00:00, 261.07samples/s]\n",
      "\u001b[1;37m[INFO 2017-02-26 14:26:12,802 kur.model.executor:390]\u001b[0m Training loss: 0.719\u001b[0m\n",
      "Validating, loss=0.585: 100%|████████| 3200/3200 [00:02<00:00, 1283.50samples/s]\n",
      "\u001b[1;37m[INFO 2017-02-26 14:26:15,297 kur.model.executor:175]\u001b[0m Validation loss: 0.585\u001b[0m\n",
      "\u001b[1;37m[INFO 2017-02-26 14:26:15,297 kur.model.executor:422]\u001b[0m Saving best historical validation weights: mnist.w\u001b[0m\n",
      "\n",
      "Epoch 3/10, loss=0.507: 100%|███████████| 480/480 [00:02<00:00, 268.15samples/s]\n",
      "\u001b[1;37m[INFO 2017-02-26 14:26:17,435 kur.model.executor:390]\u001b[0m Training loss: 0.507\u001b[0m\n",
      "Validating, loss=0.439: 100%|█████████| 3200/3200 [00:02<00:00, 935.56samples/s]\n",
      "\u001b[1;37m[INFO 2017-02-26 14:26:20,051 kur.model.executor:175]\u001b[0m Validation loss: 0.439\u001b[0m\n",
      "\u001b[1;37m[INFO 2017-02-26 14:26:20,052 kur.model.executor:422]\u001b[0m Saving best historical validation weights: mnist.w\u001b[0m\n",
      "\n",
      "Epoch 4/10, loss=0.525: 100%|███████████| 480/480 [00:03<00:00, 162.38samples/s]\n",
      "\u001b[1;37m[INFO 2017-02-26 14:26:23,094 kur.model.executor:390]\u001b[0m Training loss: 0.525\u001b[0m\n",
      "Validating, loss=0.423: 100%|████████| 3200/3200 [00:02<00:00, 1245.51samples/s]\n",
      "\u001b[1;37m[INFO 2017-02-26 14:26:25,665 kur.model.executor:175]\u001b[0m Validation loss: 0.423\u001b[0m\n",
      "\u001b[1;37m[INFO 2017-02-26 14:26:25,665 kur.model.executor:422]\u001b[0m Saving best historical validation weights: mnist.w\u001b[0m\n",
      "\n",
      "Epoch 5/10, loss=0.404: 100%|███████████| 480/480 [00:02<00:00, 269.58samples/s]\n",
      "\u001b[1;37m[INFO 2017-02-26 14:26:27,863 kur.model.executor:390]\u001b[0m Training loss: 0.404\u001b[0m\n",
      "Validating, loss=0.374: 100%|████████| 3200/3200 [00:02<00:00, 1242.28samples/s]\n",
      "\u001b[1;37m[INFO 2017-02-26 14:26:30,440 kur.model.executor:175]\u001b[0m Validation loss: 0.374\u001b[0m\n",
      "\u001b[1;37m[INFO 2017-02-26 14:26:30,441 kur.model.executor:422]\u001b[0m Saving best historical validation weights: mnist.w\u001b[0m\n",
      "\n",
      "Epoch 6/10, loss=0.377: 100%|███████████| 480/480 [00:02<00:00, 234.20samples/s]\n",
      "\u001b[1;37m[INFO 2017-02-26 14:26:33,105 kur.model.executor:390]\u001b[0m Training loss: 0.377\u001b[0m\n",
      "Validating, loss=0.376: 100%|████████| 3200/3200 [00:02<00:00, 1095.71samples/s]\n",
      "\u001b[1;37m[INFO 2017-02-26 14:26:36,027 kur.model.executor:175]\u001b[0m Validation loss: 0.376\u001b[0m\n",
      "\n",
      "Epoch 7/10, loss=0.426: 100%|███████████| 480/480 [00:02<00:00, 154.11samples/s]\n",
      "\u001b[1;37m[INFO 2017-02-26 14:26:38,792 kur.model.executor:390]\u001b[0m Training loss: 0.426\u001b[0m\n",
      "Validating, loss=0.370: 100%|█████████| 3200/3200 [00:03<00:00, 969.12samples/s]\n",
      "\u001b[1;37m[INFO 2017-02-26 14:26:42,108 kur.model.executor:175]\u001b[0m Validation loss: 0.370\u001b[0m\n",
      "\u001b[1;37m[INFO 2017-02-26 14:26:42,109 kur.model.executor:422]\u001b[0m Saving best historical validation weights: mnist.w\u001b[0m\n",
      "\n",
      "Epoch 8/10, loss=0.397: 100%|███████████| 480/480 [00:02<00:00, 238.21samples/s]\n",
      "\u001b[1;37m[INFO 2017-02-26 14:26:44,813 kur.model.executor:390]\u001b[0m Training loss: 0.397\u001b[0m\n",
      "Validating, loss=0.357: 100%|████████| 3200/3200 [00:02<00:00, 1084.20samples/s]\n",
      "\u001b[1;37m[INFO 2017-02-26 14:26:47,766 kur.model.executor:175]\u001b[0m Validation loss: 0.357\u001b[0m\n",
      "\u001b[1;37m[INFO 2017-02-26 14:26:47,766 kur.model.executor:422]\u001b[0m Saving best historical validation weights: mnist.w\u001b[0m\n",
      "\n",
      "Epoch 9/10, loss=0.363: 100%|███████████| 480/480 [00:01<00:00, 302.86samples/s]\n",
      "\u001b[1;37m[INFO 2017-02-26 14:26:49,225 kur.model.executor:390]\u001b[0m Training loss: 0.363\u001b[0m\n",
      "Validating, loss=0.317: 100%|████████| 3200/3200 [00:01<00:00, 2194.79samples/s]\n",
      "\u001b[1;37m[INFO 2017-02-26 14:26:50,833 kur.model.executor:175]\u001b[0m Validation loss: 0.317\u001b[0m\n",
      "\u001b[1;37m[INFO 2017-02-26 14:26:50,833 kur.model.executor:422]\u001b[0m Saving best historical validation weights: mnist.w\u001b[0m\n",
      "\n",
      "Epoch 10/10, loss=0.399: 100%|██████████| 480/480 [00:01<00:00, 306.03samples/s]\n",
      "\u001b[1;37m[INFO 2017-02-26 14:26:52,247 kur.model.executor:390]\u001b[0m Training loss: 0.399\u001b[0m\n",
      "Validating, loss=0.328: 100%|████████| 3200/3200 [00:01<00:00, 1938.22samples/s]\n",
      "\u001b[1;37m[INFO 2017-02-26 14:26:54,119 kur.model.executor:175]\u001b[0m Validation loss: 0.328\u001b[0m\n",
      "Completed 10 epochs.\n"
     ]
    }
   ],
   "source": [
    "!kur -v train mnist.yml # it does not build upon previous runs"
   ]
  },
  {
   "cell_type": "code",
   "execution_count": 5,
   "metadata": {
    "collapsed": false,
    "scrolled": true
   },
   "outputs": [
    {
     "name": "stdout",
     "output_type": "stream",
     "text": [
      "\u001b[1;37m[INFO 2017-02-26 13:41:33,687 kur.kurfile:638]\u001b[0m Parsing source: mnist.yml, included by top-level.\u001b[0m\n",
      "\u001b[1;37m[INFO 2017-02-26 13:41:33,694 kur.kurfile:638]\u001b[0m Parsing source: mnist-defaults.yml, included by mnist.yml.\u001b[0m\n",
      "\u001b[1;37m[INFO 2017-02-26 13:41:33,705 kur.kurfile:79]\u001b[0m Parsing Kurfile...\u001b[0m\n",
      "\u001b[1;37m[INFO 2017-02-26 13:41:33,861 kur.providers.batch_provider:54]\u001b[0m Batch size set to: 32\u001b[0m\n",
      "\u001b[1;37m[INFO 2017-02-26 13:41:33,861 kur.providers.batch_provider:60]\u001b[0m Maximum number of batches set to: 100\u001b[0m\n",
      "\u001b[1;37m[INFO 2017-02-26 13:41:33,862 kur.backend.backend:80]\u001b[0m Creating backend: keras\u001b[0m\n",
      "\u001b[1;37m[INFO 2017-02-26 13:41:33,862 kur.backend.backend:83]\u001b[0m Backend variants: none\u001b[0m\n",
      "\u001b[1;37m[INFO 2017-02-26 13:41:33,862 kur.backend.keras_backend:122]\u001b[0m No particular backend for Keras has been requested.\u001b[0m\n",
      "\u001b[1;37m[INFO 2017-02-26 13:41:34,776 kur.backend.keras_backend:191]\u001b[0m Keras is loaded. The backend is: theano\u001b[0m\n",
      "\u001b[1;37m[INFO 2017-02-26 13:41:34,776 kur.model.model:260]\u001b[0m Enumerating the model containers.\u001b[0m\n",
      "\u001b[1;37m[INFO 2017-02-26 13:41:34,777 kur.model.model:265]\u001b[0m Assembling the model dependency graph.\u001b[0m\n",
      "\u001b[1;37m[INFO 2017-02-26 13:41:34,777 kur.model.model:280]\u001b[0m Connecting the model graph.\u001b[0m\n",
      "\u001b[1;37m[INFO 2017-02-26 13:41:35,518 kur.model.model:284]\u001b[0m Model inputs:  images\u001b[0m\n",
      "\u001b[1;37m[INFO 2017-02-26 13:41:35,518 kur.model.model:285]\u001b[0m Model outputs: labels\u001b[0m\n",
      "\u001b[1;37m[INFO 2017-02-26 13:41:36,116 kur.providers.batch_provider:54]\u001b[0m Batch size set to: 2\u001b[0m\n",
      "\u001b[1;37m[INFO 2017-02-26 13:41:36,117 kur.providers.batch_provider:60]\u001b[0m Maximum number of batches set to: 1\u001b[0m\n",
      "\u001b[1;37m[INFO 2017-02-26 13:41:36,124 kur.backend.keras_backend:654]\u001b[0m Waiting for model to finish compiling...\u001b[0m\n",
      "Testing, loss=0.409: 100%|███████████| 3200/3200 [00:01<00:00, 2717.12samples/s]\n",
      "\u001b[1;37m[INFO 2017-02-26 13:41:37,367 kur.model.executor:175]\u001b[0m Test loss: 0.409\u001b[0m\n"
     ]
    }
   ],
   "source": [
    "!kur -v test mnist.yml"
   ]
  },
  {
   "cell_type": "code",
   "execution_count": 6,
   "metadata": {
    "collapsed": false
   },
   "outputs": [
    {
     "name": "stdout",
     "output_type": "stream",
     "text": [
      "\u001b[1;37m[INFO 2017-02-26 13:41:57,085 kur.kurfile:638]\u001b[0m Parsing source: mnist.yml, included by top-level.\u001b[0m\n",
      "\u001b[1;37m[INFO 2017-02-26 13:41:57,091 kur.kurfile:638]\u001b[0m Parsing source: mnist-defaults.yml, included by mnist.yml.\u001b[0m\n",
      "\u001b[1;37m[INFO 2017-02-26 13:41:57,104 kur.kurfile:79]\u001b[0m Parsing Kurfile...\u001b[0m\n",
      "\u001b[1;37m[INFO 2017-02-26 13:41:57,278 kur.providers.batch_provider:54]\u001b[0m Batch size set to: 32\u001b[0m\n",
      "\u001b[1;37m[INFO 2017-02-26 13:41:57,279 kur.backend.backend:80]\u001b[0m Creating backend: keras\u001b[0m\n",
      "\u001b[1;37m[INFO 2017-02-26 13:41:57,280 kur.backend.backend:83]\u001b[0m Backend variants: none\u001b[0m\n",
      "\u001b[1;37m[INFO 2017-02-26 13:41:57,280 kur.backend.keras_backend:122]\u001b[0m No particular backend for Keras has been requested.\u001b[0m\n",
      "\u001b[1;37m[INFO 2017-02-26 13:41:57,938 kur.backend.keras_backend:191]\u001b[0m Keras is loaded. The backend is: theano\u001b[0m\n",
      "\u001b[1;37m[INFO 2017-02-26 13:41:57,938 kur.model.model:260]\u001b[0m Enumerating the model containers.\u001b[0m\n",
      "\u001b[1;37m[INFO 2017-02-26 13:41:57,939 kur.model.model:265]\u001b[0m Assembling the model dependency graph.\u001b[0m\n",
      "\u001b[1;37m[INFO 2017-02-26 13:41:57,939 kur.model.model:280]\u001b[0m Connecting the model graph.\u001b[0m\n",
      "\u001b[1;37m[INFO 2017-02-26 13:41:58,376 kur.model.model:284]\u001b[0m Model inputs:  images\u001b[0m\n",
      "\u001b[1;37m[INFO 2017-02-26 13:41:58,376 kur.model.model:285]\u001b[0m Model outputs: labels\u001b[0m\n",
      "\u001b[1;37m[INFO 2017-02-26 13:41:58,928 kur.providers.batch_provider:54]\u001b[0m Batch size set to: 2\u001b[0m\n",
      "\u001b[1;37m[INFO 2017-02-26 13:41:58,928 kur.providers.batch_provider:60]\u001b[0m Maximum number of batches set to: 1\u001b[0m\n",
      "\u001b[1;37m[INFO 2017-02-26 13:41:58,937 kur.backend.keras_backend:654]\u001b[0m Waiting for model to finish compiling...\u001b[0m\n",
      "Evaluating: 100%|██████████████████| 10000/10000 [00:03<00:00, 2636.49samples/s]\n",
      "LABEL     CORRECT   TOTAL     ACCURACY  \n",
      "0         955       980        97.4%\n",
      "1         1070      1135       94.3%\n",
      "2         899       1032       87.1%\n",
      "3         928       1010       91.9%\n",
      "4         885       982        90.1%\n",
      "5         747       892        83.7%\n",
      "6         919       958        95.9%\n",
      "7         955       1028       92.9%\n",
      "8         902       974        92.6%\n",
      "9         809       1009       80.2%\n",
      "ALL       9069      10000      90.7%\n",
      "\u001b[1;37m[INFO 2017-02-26 13:42:02,811 kur.model.hooks.output_hook:40]\u001b[0m Saving model output as pickle: mnist.results.pkl\u001b[0m\n"
     ]
    }
   ],
   "source": [
    "!kur -v evaluate mnist.yml"
   ]
  },
  {
   "cell_type": "markdown",
   "metadata": {},
   "source": [
    "## Demonstrate Flexibility of Kur with CIFAR-10"
   ]
  },
  {
   "cell_type": "markdown",
   "metadata": {},
   "source": [
    "**Check out cifar.yml**\n",
    "\n",
    "\n",
    "```yaml\n",
    "---\n",
    "\n",
    "settings:\n",
    "\n",
    "  # Where to get the data\n",
    "  cifar: &cifar\n",
    "    url: \"https://www.cs.toronto.edu/~kriz/cifar-10-python.tar.gz\"\n",
    "    checksum: \"6d958be074577803d12ecdefd02955f39262c83c16fe9348329d7fe0b5c001ce\"\n",
    "    path: \"~/kur\"                 # download and save dataset in kur directory, if so why not see it ######\n",
    "\n",
    "  # Backend to use                                        what does \"backend to use\" mean here? ###########\n",
    "  backend:\n",
    "    name: keras\n",
    "\n",
    "  # Hyperparameters\n",
    "  cnn:\n",
    "    kernels: [64, 32]\n",
    "    size: [2, 2]\n",
    "    strides: [1, 1]                  # why in mnist.yml or mnist-default.yml we don't have strides#########\n",
    "\n",
    "# The model itself.\n",
    "# This is parsed immediately after the \"parameters\" block.\n",
    "model:\n",
    "  - input: images\n",
    "  - for:\n",
    "      range: \"{{ cnn.kernels|length }}\"\n",
    "      iterate:\n",
    "        - convolution:\n",
    "            kernels: \"{{ cnn.kernels[index] }}\"\n",
    "            size: \"{{ cnn.size }}\"\n",
    "            strides: \"{{ cnn.strides }}\"\n",
    "        - activation: relu\n",
    "  - flatten:\n",
    "  - dense: 10\n",
    "  - activation: softmax\n",
    "    name: labels\n",
    "        \n",
    "train:\n",
    "  data:\n",
    "    - cifar:\n",
    "        <<: *cifar\n",
    "        parts: [1, 2, 3, 4]\n",
    "  provider:\n",
    "    batch_size: 32\n",
    "    num_batches: 2\n",
    "  log: cifar-log                   # save a log file to ``cifar-log`` (in the current working directory)\n",
    "  epochs: 2\n",
    "  weights:\n",
    "    initial: cifar.best.valid.w\n",
    "    best: cifar.best.train.w\n",
    "    last: cifar.last.w\n",
    "\n",
    "  optimizer:\n",
    "    name: adam\n",
    "    learning_rate: 0.001\n",
    "\n",
    "validate:\n",
    "  data:\n",
    "    - cifar:\n",
    "       <<: *cifar\n",
    "       parts: 5\n",
    "  provider:\n",
    "    num_batches: 2\n",
    "  weights: cifar.best.valid.w\n",
    "\n",
    "test: &test\n",
    "  data:\n",
    "    - cifar:\n",
    "       <<: *cifar\n",
    "       parts: test\n",
    "  weights: cifar.best.valid.w\n",
    "  provider:\n",
    "    num_batches: 10\n",
    "\n",
    "evaluate:\n",
    "  <<: *test\n",
    "  destination: cifar.results.pkl\n",
    "\n",
    "loss:\n",
    "  - target: labels\n",
    "    name: categorical_crossentropy\n",
    "...\n",
    "\n",
    "```"
   ]
  },
  {
   "cell_type": "code",
   "execution_count": 20,
   "metadata": {
    "collapsed": false
   },
   "outputs": [
    {
     "name": "stdout",
     "output_type": "stream",
     "text": [
      "\u001b[1;37m[INFO 2017-02-26 18:11:29,850 kur.kurfile:638]\u001b[0m Parsing source: cifar.yml, included by top-level.\u001b[0m\n",
      "\u001b[1;37m[INFO 2017-02-26 18:11:29,864 kur.kurfile:79]\u001b[0m Parsing Kurfile...\u001b[0m\n",
      "\u001b[1;37m[INFO 2017-02-26 18:11:29,905 kur.loggers.binary_logger:87]\u001b[0m Log does not exist. Creating path: cifar-log\u001b[0m\n",
      "Downloading: 100%|████████████████████████| 170M/170M [25:05<00:00, 113Kbytes/s]\n",
      "\u001b[1;37m[INFO 2017-02-26 18:36:37,251 kur.utils.network:65]\u001b[0m File downloaded: /Users/Natsume/kur/cifar-10-python.tar.gz\u001b[0m\n",
      "\u001b[1;37m[INFO 2017-02-26 18:36:45,391 kur.providers.batch_provider:54]\u001b[0m Batch size set to: 32\u001b[0m\n",
      "\u001b[1;37m[INFO 2017-02-26 18:36:45,391 kur.providers.batch_provider:60]\u001b[0m Maximum number of batches set to: 2\u001b[0m\n",
      "\u001b[1;37m[INFO 2017-02-26 18:36:51,621 kur.providers.batch_provider:54]\u001b[0m Batch size set to: 32\u001b[0m\n",
      "\u001b[1;37m[INFO 2017-02-26 18:36:51,621 kur.providers.batch_provider:60]\u001b[0m Maximum number of batches set to: 2\u001b[0m\n",
      "\u001b[1;37m[INFO 2017-02-26 18:36:51,623 kur.backend.backend:80]\u001b[0m Creating backend: keras\u001b[0m\n",
      "\u001b[1;37m[INFO 2017-02-26 18:36:51,623 kur.backend.backend:83]\u001b[0m Backend variants: none\u001b[0m\n",
      "\u001b[1;37m[INFO 2017-02-26 18:36:51,623 kur.backend.keras_backend:122]\u001b[0m No particular backend for Keras has been requested.\u001b[0m\n",
      "\u001b[1;37m[INFO 2017-02-26 18:36:52,791 kur.backend.keras_backend:191]\u001b[0m Keras is loaded. The backend is: theano\u001b[0m\n",
      "\u001b[1;37m[INFO 2017-02-26 18:36:52,792 kur.model.model:260]\u001b[0m Enumerating the model containers.\u001b[0m\n",
      "\u001b[1;37m[INFO 2017-02-26 18:36:52,792 kur.model.model:265]\u001b[0m Assembling the model dependency graph.\u001b[0m\n",
      "\u001b[1;37m[INFO 2017-02-26 18:36:52,792 kur.model.model:280]\u001b[0m Connecting the model graph.\u001b[0m\n",
      "\u001b[1;37m[INFO 2017-02-26 18:36:53,738 kur.model.model:284]\u001b[0m Model inputs:  images\u001b[0m\n",
      "\u001b[1;37m[INFO 2017-02-26 18:36:53,738 kur.model.model:285]\u001b[0m Model outputs: labels\u001b[0m\n",
      "\u001b[1;37m[INFO 2017-02-26 18:36:53,738 kur.kurfile:310]\u001b[0m Ignoring missing initial weights: cifar.best.valid.w. If this is undesireable, set \"must_exist\" to \"yes\" in the approriate \"weights\" section.\u001b[0m\n",
      "\u001b[1;37m[INFO 2017-02-26 18:36:59,571 kur.providers.batch_provider:54]\u001b[0m Batch size set to: 2\u001b[0m\n",
      "\u001b[1;37m[INFO 2017-02-26 18:36:59,572 kur.providers.batch_provider:60]\u001b[0m Maximum number of batches set to: 1\u001b[0m\n",
      "\u001b[1;37m[INFO 2017-02-26 18:36:59,580 kur.backend.keras_backend:654]\u001b[0m Waiting for model to finish compiling...\u001b[0m\n",
      "\u001b[1;37m[INFO 2017-02-26 18:36:59,657 kur.model.executor:256]\u001b[0m No historical training loss available from logs.\u001b[0m\n",
      "\u001b[1;37m[INFO 2017-02-26 18:36:59,657 kur.model.executor:264]\u001b[0m No historical validation loss available from logs.\u001b[0m\n",
      "\u001b[1;37m[INFO 2017-02-26 18:36:59,657 kur.model.executor:270]\u001b[0m No previous epochs.\u001b[0m\n",
      "\n",
      "Epoch 1/2, loss=2.289: 100%|███████████████| 64/64 [00:01<00:00, 32.74samples/s]\n",
      "\u001b[1;37m[INFO 2017-02-26 18:37:01,122 kur.model.executor:390]\u001b[0m Training loss: 2.289\u001b[0m\n",
      "\u001b[1;37m[INFO 2017-02-26 18:37:01,123 kur.model.executor:397]\u001b[0m Saving best historical training weights: cifar.best.train.w\u001b[0m\n",
      "\u001b[1;37m[INFO 2017-02-26 18:37:04,237 kur.providers.batch_provider:54]\u001b[0m Batch size set to: 2\u001b[0m\n",
      "\u001b[1;37m[INFO 2017-02-26 18:37:04,237 kur.providers.batch_provider:60]\u001b[0m Maximum number of batches set to: 1\u001b[0m\n",
      "\u001b[1;37m[INFO 2017-02-26 18:37:04,243 kur.backend.keras_backend:654]\u001b[0m Waiting for model to finish compiling...\u001b[0m\n",
      "Validating, loss=2.397: 100%|█████████████| 64/64 [00:00<00:00, 236.01samples/s]\n",
      "\u001b[1;37m[INFO 2017-02-26 18:37:04,523 kur.model.executor:175]\u001b[0m Validation loss: 2.397\u001b[0m\n",
      "\u001b[1;37m[INFO 2017-02-26 18:37:04,523 kur.model.executor:422]\u001b[0m Saving best historical validation weights: cifar.best.valid.w\u001b[0m\n",
      "\n",
      "Epoch 2/2, loss=2.383: 100%|███████████████| 64/64 [00:00<00:00, 52.79samples/s]\n",
      "\u001b[1;37m[INFO 2017-02-26 18:37:05,460 kur.model.executor:390]\u001b[0m Training loss: 2.383\u001b[0m\n",
      "Validating, loss=2.306: 100%|█████████████| 64/64 [00:00<00:00, 418.45samples/s]\n",
      "\u001b[1;37m[INFO 2017-02-26 18:37:05,616 kur.model.executor:175]\u001b[0m Validation loss: 2.306\u001b[0m\n",
      "\u001b[1;37m[INFO 2017-02-26 18:37:05,616 kur.model.executor:422]\u001b[0m Saving best historical validation weights: cifar.best.valid.w\u001b[0m\n",
      "Completed 2 epochs.\n",
      "\u001b[1;37m[INFO 2017-02-26 18:37:05,624 kur.model.executor:210]\u001b[0m Saving most recent weights: cifar.last.w\u001b[0m\n"
     ]
    }
   ],
   "source": [
    "!kur -v train cifar.yml"
   ]
  },
  {
   "cell_type": "code",
   "execution_count": 21,
   "metadata": {
    "collapsed": false
   },
   "outputs": [
    {
     "name": "stdout",
     "output_type": "stream",
     "text": [
      "\u001b[1;37m[INFO 2017-02-26 18:40:29,021 kur.kurfile:638]\u001b[0m Parsing source: cifar.yml, included by top-level.\u001b[0m\n",
      "\u001b[1;37m[INFO 2017-02-26 18:40:29,035 kur.kurfile:79]\u001b[0m Parsing Kurfile...\u001b[0m\n",
      "\u001b[1;37m[INFO 2017-02-26 18:40:29,062 kur.loggers.binary_logger:63]\u001b[0m Loading log data: cifar-log\u001b[0m\n",
      "\u001b[1;37m[INFO 2017-02-26 18:40:36,827 kur.providers.batch_provider:54]\u001b[0m Batch size set to: 32\u001b[0m\n",
      "\u001b[1;37m[INFO 2017-02-26 18:40:36,827 kur.providers.batch_provider:60]\u001b[0m Maximum number of batches set to: 2\u001b[0m\n",
      "\u001b[1;37m[INFO 2017-02-26 18:40:42,897 kur.providers.batch_provider:54]\u001b[0m Batch size set to: 32\u001b[0m\n",
      "\u001b[1;37m[INFO 2017-02-26 18:40:42,897 kur.providers.batch_provider:60]\u001b[0m Maximum number of batches set to: 2\u001b[0m\n",
      "\u001b[1;37m[INFO 2017-02-26 18:40:42,898 kur.backend.backend:80]\u001b[0m Creating backend: keras\u001b[0m\n",
      "\u001b[1;37m[INFO 2017-02-26 18:40:42,898 kur.backend.backend:83]\u001b[0m Backend variants: none\u001b[0m\n",
      "\u001b[1;37m[INFO 2017-02-26 18:40:42,898 kur.backend.keras_backend:122]\u001b[0m No particular backend for Keras has been requested.\u001b[0m\n",
      "\u001b[1;37m[INFO 2017-02-26 18:40:43,876 kur.backend.keras_backend:191]\u001b[0m Keras is loaded. The backend is: theano\u001b[0m\n",
      "\u001b[1;37m[INFO 2017-02-26 18:40:43,877 kur.model.model:260]\u001b[0m Enumerating the model containers.\u001b[0m\n",
      "\u001b[1;37m[INFO 2017-02-26 18:40:43,877 kur.model.model:265]\u001b[0m Assembling the model dependency graph.\u001b[0m\n",
      "\u001b[1;37m[INFO 2017-02-26 18:40:43,877 kur.model.model:280]\u001b[0m Connecting the model graph.\u001b[0m\n",
      "\u001b[1;37m[INFO 2017-02-26 18:40:44,635 kur.model.model:284]\u001b[0m Model inputs:  images\u001b[0m\n",
      "\u001b[1;37m[INFO 2017-02-26 18:40:44,635 kur.model.model:285]\u001b[0m Model outputs: labels\u001b[0m\n",
      "\u001b[1;37m[INFO 2017-02-26 18:40:46,639 kur.providers.batch_provider:54]\u001b[0m Batch size set to: 2\u001b[0m\n",
      "\u001b[1;37m[INFO 2017-02-26 18:40:46,639 kur.providers.batch_provider:60]\u001b[0m Maximum number of batches set to: 1\u001b[0m\n",
      "\u001b[1;37m[INFO 2017-02-26 18:40:46,646 kur.backend.keras_backend:654]\u001b[0m Waiting for model to finish compiling...\u001b[0m\n",
      "\u001b[1;37m[INFO 2017-02-26 18:40:46,742 kur.model.executor:254]\u001b[0m Best historical training loss: 2.289\u001b[0m\n",
      "\u001b[1;37m[INFO 2017-02-26 18:40:46,743 kur.model.executor:261]\u001b[0m Best historical validation loss: 2.306\u001b[0m\n",
      "\u001b[1;37m[INFO 2017-02-26 18:40:46,743 kur.model.executor:272]\u001b[0m Restarting from epoch 3.\u001b[0m\n",
      "\n",
      "Epoch 3/4, loss=2.321: 100%|███████████████| 64/64 [00:01<00:00, 39.46samples/s]\n",
      "\u001b[1;37m[INFO 2017-02-26 18:40:47,981 kur.model.executor:390]\u001b[0m Training loss: 2.321\u001b[0m\n",
      "\u001b[1;37m[INFO 2017-02-26 18:40:48,760 kur.providers.batch_provider:54]\u001b[0m Batch size set to: 2\u001b[0m\n",
      "\u001b[1;37m[INFO 2017-02-26 18:40:48,760 kur.providers.batch_provider:60]\u001b[0m Maximum number of batches set to: 1\u001b[0m\n",
      "\u001b[1;37m[INFO 2017-02-26 18:40:48,767 kur.backend.keras_backend:654]\u001b[0m Waiting for model to finish compiling...\u001b[0m\n",
      "Validating, loss=2.235: 100%|█████████████| 64/64 [00:00<00:00, 267.92samples/s]\n",
      "\u001b[1;37m[INFO 2017-02-26 18:40:49,013 kur.model.executor:175]\u001b[0m Validation loss: 2.235\u001b[0m\n",
      "\u001b[1;37m[INFO 2017-02-26 18:40:49,014 kur.model.executor:422]\u001b[0m Saving best historical validation weights: cifar.best.valid.w\u001b[0m\n",
      "\n",
      "Epoch 4/4, loss=2.277: 100%|███████████████| 64/64 [00:00<00:00, 68.98samples/s]\n",
      "\u001b[1;37m[INFO 2017-02-26 18:40:49,755 kur.model.executor:390]\u001b[0m Training loss: 2.277\u001b[0m\n",
      "\u001b[1;37m[INFO 2017-02-26 18:40:49,755 kur.model.executor:397]\u001b[0m Saving best historical training weights: cifar.best.train.w\u001b[0m\n",
      "Validating, loss=2.183: 100%|█████████████| 64/64 [00:00<00:00, 397.93samples/s]\n",
      "\u001b[1;37m[INFO 2017-02-26 18:40:49,924 kur.model.executor:175]\u001b[0m Validation loss: 2.183\u001b[0m\n",
      "\u001b[1;37m[INFO 2017-02-26 18:40:49,924 kur.model.executor:422]\u001b[0m Saving best historical validation weights: cifar.best.valid.w\u001b[0m\n",
      "Completed 4 epochs.\n",
      "\u001b[1;37m[INFO 2017-02-26 18:40:49,930 kur.model.executor:210]\u001b[0m Saving most recent weights: cifar.last.w\u001b[0m\n"
     ]
    }
   ],
   "source": [
    "!kur -v train cifar.yml"
   ]
  },
  {
   "cell_type": "code",
   "execution_count": 22,
   "metadata": {
    "collapsed": false
   },
   "outputs": [
    {
     "name": "stdout",
     "output_type": "stream",
     "text": [
      "\u001b[1;37m[INFO 2017-02-26 18:41:33,882 kur.kurfile:638]\u001b[0m Parsing source: cifar.yml, included by top-level.\u001b[0m\n",
      "\u001b[1;37m[INFO 2017-02-26 18:41:33,897 kur.kurfile:79]\u001b[0m Parsing Kurfile...\u001b[0m\n",
      "\u001b[1;37m[INFO 2017-02-26 18:41:38,753 kur.providers.batch_provider:54]\u001b[0m Batch size set to: 32\u001b[0m\n",
      "\u001b[1;37m[INFO 2017-02-26 18:41:38,753 kur.providers.batch_provider:60]\u001b[0m Maximum number of batches set to: 10\u001b[0m\n",
      "\u001b[1;37m[INFO 2017-02-26 18:41:38,754 kur.backend.backend:80]\u001b[0m Creating backend: keras\u001b[0m\n",
      "\u001b[1;37m[INFO 2017-02-26 18:41:38,754 kur.backend.backend:83]\u001b[0m Backend variants: none\u001b[0m\n",
      "\u001b[1;37m[INFO 2017-02-26 18:41:38,754 kur.backend.keras_backend:122]\u001b[0m No particular backend for Keras has been requested.\u001b[0m\n",
      "\u001b[1;37m[INFO 2017-02-26 18:41:39,609 kur.backend.keras_backend:191]\u001b[0m Keras is loaded. The backend is: theano\u001b[0m\n",
      "\u001b[1;37m[INFO 2017-02-26 18:41:39,609 kur.model.model:260]\u001b[0m Enumerating the model containers.\u001b[0m\n",
      "\u001b[1;37m[INFO 2017-02-26 18:41:39,609 kur.model.model:265]\u001b[0m Assembling the model dependency graph.\u001b[0m\n",
      "\u001b[1;37m[INFO 2017-02-26 18:41:39,609 kur.model.model:280]\u001b[0m Connecting the model graph.\u001b[0m\n",
      "\u001b[1;37m[INFO 2017-02-26 18:41:40,035 kur.model.model:284]\u001b[0m Model inputs:  images\u001b[0m\n",
      "\u001b[1;37m[INFO 2017-02-26 18:41:40,035 kur.model.model:285]\u001b[0m Model outputs: labels\u001b[0m\n",
      "\u001b[1;37m[INFO 2017-02-26 18:41:40,831 kur.providers.batch_provider:54]\u001b[0m Batch size set to: 2\u001b[0m\n",
      "\u001b[1;37m[INFO 2017-02-26 18:41:40,831 kur.providers.batch_provider:60]\u001b[0m Maximum number of batches set to: 1\u001b[0m\n",
      "\u001b[1;37m[INFO 2017-02-26 18:41:40,839 kur.backend.keras_backend:654]\u001b[0m Waiting for model to finish compiling...\u001b[0m\n",
      "Evaluating: 100%|███████████████████████| 320/320 [00:00<00:00, 798.42samples/s]\n",
      "\u001b[1;37m[INFO 2017-02-26 18:41:41,293 kur.model.hooks.output_hook:40]\u001b[0m Saving model output as pickle: cifar.results.pkl\u001b[0m\n"
     ]
    }
   ],
   "source": [
    "!kur -v evaluate cifar.yml"
   ]
  },
  {
   "cell_type": "code",
   "execution_count": 23,
   "metadata": {
    "collapsed": false
   },
   "outputs": [
    {
     "name": "stdout",
     "output_type": "stream",
     "text": [
      "\u001b[1;37m[INFO 2017-02-26 18:42:18,612 kur.kurfile:638]\u001b[0m Parsing source: cifar.yml, included by top-level.\u001b[0m\n",
      "\u001b[1;37m[INFO 2017-02-26 18:42:18,627 kur.kurfile:79]\u001b[0m Parsing Kurfile...\u001b[0m\n",
      "\u001b[1;37m[INFO 2017-02-26 18:42:23,592 kur.providers.batch_provider:54]\u001b[0m Batch size set to: 32\u001b[0m\n",
      "\u001b[1;37m[INFO 2017-02-26 18:42:23,592 kur.providers.batch_provider:60]\u001b[0m Maximum number of batches set to: 10\u001b[0m\n",
      "\u001b[1;37m[INFO 2017-02-26 18:42:23,593 kur.backend.backend:80]\u001b[0m Creating backend: keras\u001b[0m\n",
      "\u001b[1;37m[INFO 2017-02-26 18:42:23,593 kur.backend.backend:83]\u001b[0m Backend variants: none\u001b[0m\n",
      "\u001b[1;37m[INFO 2017-02-26 18:42:23,593 kur.backend.keras_backend:122]\u001b[0m No particular backend for Keras has been requested.\u001b[0m\n",
      "\u001b[1;37m[INFO 2017-02-26 18:42:24,241 kur.backend.keras_backend:191]\u001b[0m Keras is loaded. The backend is: theano\u001b[0m\n",
      "\u001b[1;37m[INFO 2017-02-26 18:42:24,242 kur.model.model:260]\u001b[0m Enumerating the model containers.\u001b[0m\n",
      "\u001b[1;37m[INFO 2017-02-26 18:42:24,242 kur.model.model:265]\u001b[0m Assembling the model dependency graph.\u001b[0m\n",
      "\u001b[1;37m[INFO 2017-02-26 18:42:24,242 kur.model.model:280]\u001b[0m Connecting the model graph.\u001b[0m\n",
      "\u001b[1;37m[INFO 2017-02-26 18:42:24,722 kur.model.model:284]\u001b[0m Model inputs:  images\u001b[0m\n",
      "\u001b[1;37m[INFO 2017-02-26 18:42:24,722 kur.model.model:285]\u001b[0m Model outputs: labels\u001b[0m\n",
      "\u001b[1;37m[INFO 2017-02-26 18:42:25,566 kur.providers.batch_provider:54]\u001b[0m Batch size set to: 2\u001b[0m\n",
      "\u001b[1;37m[INFO 2017-02-26 18:42:25,567 kur.providers.batch_provider:60]\u001b[0m Maximum number of batches set to: 1\u001b[0m\n",
      "\u001b[1;37m[INFO 2017-02-26 18:42:25,573 kur.backend.keras_backend:654]\u001b[0m Waiting for model to finish compiling...\u001b[0m\n",
      "Testing, loss=2.188: 100%|██████████████| 320/320 [00:00<00:00, 719.03samples/s]\n",
      "\u001b[1;37m[INFO 2017-02-26 18:42:26,061 kur.model.executor:175]\u001b[0m Test loss: 2.188\u001b[0m\n"
     ]
    }
   ],
   "source": [
    "!kur -v test cifar.yml"
   ]
  },
  {
   "cell_type": "code",
   "execution_count": 113,
   "metadata": {
    "collapsed": false
   },
   "outputs": [],
   "source": [
    "%pycat speech.yml"
   ]
  },
  {
   "cell_type": "markdown",
   "metadata": {},
   "source": [
    "## Speech.yml displayed\n",
    "\n",
    "```yml\n",
    "---\n",
    "\n",
    "###############################################################################\n",
    "# Pro-tips:\n",
    "#\n",
    "# - Use YAML's anchors! This let's you define a value (even a dictionary), and\n",
    "#   reuse, or even change, parts of it later. YAML anchors are incredible for\n",
    "#   defining constant values that you want to reuse all over the place. You can\n",
    "#   define an anchor like this:\n",
    "#     KEY: &my_anchor\n",
    "#   Note that the value of KEY can be anything. All of these are allowed:\n",
    "#     KEY: &my_anchor \"my value\"\n",
    "#     KEY: &my_ancor\n",
    "#       A: B\n",
    "#       C: D\n",
    "#     KEY: &my_anchor [1, 2, 3]\n",
    "#   You can then refer back to your anchors like this:\n",
    "#     ANOTHER_KEY: *my_anchor\n",
    "#   This sets the value of ANOTHER_KEY to be the same thing as the original\n",
    "#   KEY. Now let's say that your anchor is a dictionary, but you want to refer\n",
    "#   to it with modified values later. Try this:\n",
    "#     KEY: &my_anchor\n",
    "#       FIRST: VALUE_1\n",
    "#       SECOND: VALUE_2\n",
    "#     ANOTHER_KEY:\n",
    "#       <<: *my_anchor\n",
    "#       SECOND: VALUE_2_NEW\n",
    "#       THIRD: VALUE_3\n",
    "#     MORE_KEY: *my_anchor\n",
    "#   These are 100% equivalent to this more verbose structure:\n",
    "#     KEY:\n",
    "#       FIRST: VALUE_1\n",
    "#       SECOND: VALUE_2\n",
    "#     ANOTHER_KEY:\n",
    "#       FIRST: VALUE_1\n",
    "#       SECOND: VALUE_2_NEW\n",
    "#       THIRD: VALUE_3\n",
    "#     MORE_KEY:\n",
    "#       FIRST: VALUE_1\n",
    "#       SECOND: VALUE_2\n",
    "#\n",
    "# - Use the Jinja2 engine! It is really powerful, and it's most appropriately\n",
    "#   used to do on-the-fly interpretation/evaluation of values in the \"model\"\n",
    "#   section of the Kurfile.\n",
    "#\n",
    "# - So how do you know when to use YAML anchors as opposed to Jinja2\n",
    "#   expressions? Here are some tips.\n",
    "#\n",
    "#   YAML anchors only work within a single YAML file, and are evaluated the\n",
    "#   moment the file is loaded. This means you can't use YAML anchors from a\n",
    "#   JSON Kurfile, and you can't reference anchors in other Kurfiles.\n",
    "#\n",
    "#   Jinja2 is interpreted after all Kurfiles are loaded, which means that\n",
    "#   many different Kurfiles can share variables via Jinja2. Jinja2\n",
    "#   expressions can also be used in JSON Kurfiles.\n",
    "#\n",
    "#   It's almost like YAML anchors are \"compile-time constants\" but Jinja2\n",
    "#   expressions are interpreted at run-time. As a result, the value of a\n",
    "#   Jinja2 expression could be different at different points in the\n",
    "#   Kurfile (e.g., if you use Jinja2 to reference the previous layer in a\n",
    "#   model, obviously the interpretation/value of \"previous layer\" resolves\n",
    "#   to something different for the second layer in the model as compared to the\n",
    "#   fifth layer in the model.\n",
    "\n",
    "###############################################################################\n",
    "settings:\n",
    "\n",
    "  # Deep learning model\n",
    "  cnn:\n",
    "    kernels: 1000\n",
    "    size: 11\n",
    "    stride: 2\n",
    "  rnn:\n",
    "    size: 1000\n",
    "    depth: 3\n",
    "  vocab:\n",
    "    # Need for CTC\n",
    "    size: 28\n",
    "\n",
    "  # Setting up the backend.\n",
    "  backend:\n",
    "    name: keras\n",
    "    backend: tensorflow\n",
    "\n",
    "  # Batch sizes\n",
    "  provider: &provider\n",
    "    batch_size: 16\n",
    "    force_batch_size: yes\n",
    "\n",
    "  # Where to put the data.\n",
    "  data: &data\n",
    "    path: \"~/kur\"\n",
    "    type: spec\n",
    "    max_duration: 50\n",
    "    max_frequency: 8000\n",
    "    normalization: norm.yml\n",
    "\n",
    "  # Where to put the weights\n",
    "  weights: &weights weights\n",
    "\n",
    "###############################################################################\n",
    "model:\n",
    "\n",
    "  # This is Baidu's DeepSpeech model:\n",
    "  #   https://arxiv.org/abs/1412.5567\n",
    "  # Kur makes prototyping different versions of it incredibly easy.\n",
    "\n",
    "  # The model input is audio data (called utterances).\n",
    "  - input: utterance\n",
    "\n",
    "  # One-dimensional, variable-size convolutional layers to extract more\n",
    "  # efficient representation of the data.\n",
    "  - convolution:\n",
    "      kernels: \"{{ cnn.kernels }}\"\n",
    "      size: \"{{ cnn.size }}\"\n",
    "      strides: \"{{ cnn.stride }}\"\n",
    "      border: valid\n",
    "  - activation: relu\n",
    "  - batch_normalization\n",
    "\n",
    "  # A series of recurrent layers to learn temporal sequences.\n",
    "  - for:\n",
    "      range: \"{{ rnn.depth }}\"\n",
    "      iterate:\n",
    "        - recurrent:\n",
    "            size: \"{{ rnn.size }}\"\n",
    "            sequence: yes\n",
    "        - batch_normalization\n",
    "\n",
    "  # A dense layer to get everything into the right output shape.\n",
    "  - parallel:\n",
    "      apply:\n",
    "        - dense: \"{{ vocab.size + 1 }}\"\n",
    "  - activation: softmax\n",
    "\n",
    "  # The output is the transcription.\n",
    "  - output: asr\n",
    "\n",
    "###############################################################################\n",
    "train:\n",
    "\n",
    "  data:\n",
    "    # A \"speech_recognition\" data supplier will create these data sources:\n",
    "    #   utterance, utterance_length, transcript, transcript_length, duration\n",
    "    - speech_recognition:\n",
    "        <<: *data\n",
    "        url: \"http://kur.deepgram.com/data/lsdc-train.tar.gz\"\n",
    "        checksum: >-\n",
    "          fc414bccf4de3964f895eaa9d0e245ea28810a94be3079b55505cf0eb1644f94\n",
    "\n",
    "  weights: *weights\n",
    "  provider:\n",
    "    <<: *provider\n",
    "    sortagrad: duration\n",
    "\n",
    "  log: log\n",
    "\n",
    "  optimizer:\n",
    "    name: sgd\n",
    "    nesterov: yes\n",
    "    learning_rate: 2e-4\n",
    "    momentum: 0.9\n",
    "    clip:\n",
    "      norm: 100\n",
    "\n",
    "###############################################################################\n",
    "validate: &validate\n",
    "  data:\n",
    "    - speech_recognition:\n",
    "        <<: *data\n",
    "        url: \"http://kur.deepgram.com/data/lsdc-test.tar.gz\"\n",
    "        checksum: >-\n",
    "          e1c8cf9cd57e8c1ae952b6e4e40dcb5c8e3932c81ecd52c090e4a05c8ebbea2b\n",
    "\n",
    "  weights: *weights\n",
    "  provider: *provider\n",
    "\n",
    "  hooks:\n",
    "    - transcript\n",
    "\n",
    "###############################################################################\n",
    "test: *validate\n",
    "\n",
    "###############################################################################\n",
    "evaluate: *validate\n",
    "\n",
    "###############################################################################\n",
    "loss:\n",
    "  - name: ctc\n",
    "    # The model's output (its best-guest transcript).\n",
    "    target: asr\n",
    "    # How long the corresponding audio utterance is.\n",
    "    input_length: utterance_length\n",
    "    relative_to: utterance\n",
    "    # How long the ground-truth transcript is.\n",
    "    output_length: transcript_length\n",
    "    # The ground-truth transcipt itself.\n",
    "    output: transcript\n",
    "\n",
    "...\n",
    "```"
   ]
  },
  {
   "cell_type": "code",
   "execution_count": 18,
   "metadata": {
    "collapsed": false,
    "scrolled": false
   },
   "outputs": [
    {
     "name": "stdout",
     "output_type": "stream",
     "text": [
      "\u001b[1;37m[INFO 2017-02-26 14:32:31,969 kur.kurfile:638]\u001b[0m Parsing source: speech.yml, included by top-level.\u001b[0m\n",
      "\u001b[1;37m[INFO 2017-02-26 14:32:31,993 kur.kurfile:79]\u001b[0m Parsing Kurfile...\u001b[0m\n",
      "\u001b[1;37m[INFO 2017-02-26 14:32:32,051 kur.loggers.binary_logger:63]\u001b[0m Loading log data: log\u001b[0m\n",
      "\u001b[1;37m[INFO 2017-02-26 14:32:56,353 kur.supplier.speechrec:143]\u001b[0m Restoring normalization statistics: norm.yml\u001b[0m\n",
      "\u001b[1;37m[INFO 2017-02-26 14:32:56,353 kur.utils.normalize:185]\u001b[0m Restoring normalization state from: norm.yml\u001b[0m\n",
      "\u001b[1;37m[INFO 2017-02-26 14:33:02,442 kur.supplier.speechrec:299]\u001b[0m Inferring vocabulary from data set.\u001b[0m\n",
      "\u001b[1;37m[INFO 2017-02-26 14:33:02,476 kur.supplier.speechrec:334]\u001b[0m Loaded a 28-word vocabulary.\u001b[0m\n",
      "\u001b[1;37m[INFO 2017-02-26 14:33:02,477 kur.providers.batch_provider:54]\u001b[0m Batch size set to: 16\u001b[0m\n",
      "\u001b[1;37m[INFO 2017-02-26 14:33:02,477 kur.providers.batch_provider:70]\u001b[0m Batch provider will force batches of exactly 16 samples.\u001b[0m\n",
      "\u001b[1;37m[INFO 2017-02-26 14:33:05,039 kur.supplier.speechrec:143]\u001b[0m Restoring normalization statistics: norm.yml\u001b[0m\n",
      "\u001b[1;37m[INFO 2017-02-26 14:33:05,039 kur.utils.normalize:185]\u001b[0m Restoring normalization state from: norm.yml\u001b[0m\n",
      "\u001b[1;37m[INFO 2017-02-26 14:33:09,980 kur.supplier.speechrec:299]\u001b[0m Inferring vocabulary from data set.\u001b[0m\n",
      "\u001b[1;37m[INFO 2017-02-26 14:33:09,982 kur.supplier.speechrec:334]\u001b[0m Loaded a 28-word vocabulary.\u001b[0m\n",
      "\u001b[1;37m[INFO 2017-02-26 14:33:09,982 kur.providers.batch_provider:54]\u001b[0m Batch size set to: 16\u001b[0m\n",
      "\u001b[1;37m[INFO 2017-02-26 14:33:09,983 kur.providers.batch_provider:70]\u001b[0m Batch provider will force batches of exactly 16 samples.\u001b[0m\n",
      "\u001b[1;37m[INFO 2017-02-26 14:33:09,983 kur.backend.backend:80]\u001b[0m Creating backend: keras\u001b[0m\n",
      "\u001b[1;37m[INFO 2017-02-26 14:33:09,983 kur.backend.backend:83]\u001b[0m Backend variants: none\u001b[0m\n",
      "\u001b[1;37m[INFO 2017-02-26 14:33:09,983 kur.backend.keras_backend:81]\u001b[0m The tensorflow backend for Keras has been requested.\u001b[0m\n",
      "\u001b[1;37m[INFO 2017-02-26 14:33:11,329 kur.backend.keras_backend:191]\u001b[0m Keras is loaded. The backend is: tensorflow\u001b[0m\n",
      "\u001b[1;37m[INFO 2017-02-26 14:33:11,329 kur.model.model:260]\u001b[0m Enumerating the model containers.\u001b[0m\n",
      "\u001b[1;37m[INFO 2017-02-26 14:33:11,330 kur.model.model:265]\u001b[0m Assembling the model dependency graph.\u001b[0m\n",
      "\u001b[1;37m[INFO 2017-02-26 14:33:11,330 kur.model.model:280]\u001b[0m Connecting the model graph.\u001b[0m\n",
      "\u001b[1;37m[INFO 2017-02-26 14:33:12,401 kur.model.model:284]\u001b[0m Model inputs:  utterance\u001b[0m\n",
      "\u001b[1;37m[INFO 2017-02-26 14:33:12,402 kur.model.model:285]\u001b[0m Model outputs: asr\u001b[0m\n",
      "\u001b[1;37m[INFO 2017-02-26 14:33:12,402 kur.kurfile:310]\u001b[0m Ignoring missing initial weights: weights. If this is undesireable, set \"must_exist\" to \"yes\" in the approriate \"weights\" section.\u001b[0m\n",
      "\u001b[1;37m[INFO 2017-02-26 14:33:17,421 kur.providers.batch_provider:54]\u001b[0m Batch size set to: 2\u001b[0m\n",
      "\u001b[1;37m[INFO 2017-02-26 14:33:17,421 kur.providers.batch_provider:60]\u001b[0m Maximum number of batches set to: 1\u001b[0m\n",
      "W tensorflow/core/platform/cpu_feature_guard.cc:45] The TensorFlow library wasn't compiled to use SSE4.1 instructions, but these are available on your machine and could speed up CPU computations.\n",
      "W tensorflow/core/platform/cpu_feature_guard.cc:45] The TensorFlow library wasn't compiled to use SSE4.2 instructions, but these are available on your machine and could speed up CPU computations.\n",
      "W tensorflow/core/platform/cpu_feature_guard.cc:45] The TensorFlow library wasn't compiled to use AVX instructions, but these are available on your machine and could speed up CPU computations.\n",
      "W tensorflow/core/platform/cpu_feature_guard.cc:45] The TensorFlow library wasn't compiled to use AVX2 instructions, but these are available on your machine and could speed up CPU computations.\n",
      "W tensorflow/core/platform/cpu_feature_guard.cc:45] The TensorFlow library wasn't compiled to use FMA instructions, but these are available on your machine and could speed up CPU computations.\n",
      "\u001b[1;37m[INFO 2017-02-26 14:33:20,651 kur.backend.keras_backend:654]\u001b[0m Waiting for model to finish compiling...\u001b[0m\n",
      "\u001b[1;33m[WARNING 2017-02-26 14:33:20,657 kur.utils.audiotools:98]\u001b[0m Python package \"magic\" could not be loaded, possibly because system library \"libmagic\" could not be found. We are falling back on our own heuristics.\u001b[0m\n",
      "\u001b[1;37m[INFO 2017-02-26 14:33:34,203 kur.model.executor:256]\u001b[0m No historical training loss available from logs.\u001b[0m\n",
      "\u001b[1;37m[INFO 2017-02-26 14:33:34,203 kur.model.executor:264]\u001b[0m No historical validation loss available from logs.\u001b[0m\n",
      "\u001b[1;37m[INFO 2017-02-26 14:33:34,203 kur.model.executor:270]\u001b[0m No previous epochs.\u001b[0m\n",
      "\n",
      "Epoch 1/inf, loss=N/A:   0%|                      | 0/2432 [00:00<?, ?samples/s]\u001b[1;37m[INFO 2017-02-26 14:33:34,206 kur.providers.shuffle_provider:168]\u001b[0m Sorting data by key duration...\u001b[0m\n",
      "Epoch 1/inf, loss=217.759:  47%|███▎   | 1152/2432 [19:53<32:57,  1.55s/samples]^C\n"
     ]
    }
   ],
   "source": [
    "!kur -v train speech.yml"
   ]
  },
  {
   "cell_type": "markdown",
   "metadata": {},
   "source": [
    "### How to stop training after one hour and test the performance of the trained model?\n",
    "\n",
    "In the post, the author [indicated it is possible to train model just for an hour](https://hyp.is/AdYWLPs5EeaGCsMcxJGeRw/blog.deepgram.com/how-to-train-baidus-deepspeech-model-with-kur/). \n",
    "So, I wonder: \n",
    "\n",
    "> How to stop the training whenever I want?      \n",
    "> How to test the trained model with an audio? "
   ]
  },
  {
   "cell_type": "markdown",
   "metadata": {},
   "source": [
    "###  speed up running \n",
    "- stop it if it is too slow, ctrl + c is equivalent to stop button above\n",
    "- select a smaller sample to run here, by chaning kurfile"
   ]
  },
  {
   "cell_type": "markdown",
   "metadata": {},
   "source": [
    "### **Load binary log file in python**\n",
    "\n",
    "\n",
    "```\n",
    "\tfrom kur.loggers import BinaryLogger\n",
    "\tdata = BinaryLogger.load_column(LOG_PATH, STATISTIC)\n",
    "```\n",
    "- LOG_PATH is the path to the log file (e.g., cifar-log)\n",
    "- STATISTIC is one of the logged statistics\n",
    "- data will be a `Numpy array`\n",
    "- To find available statistics, just list the available files in the ``LOG_PATH``, like this:\n",
    "\n",
    "```\n",
    "\n",
    "\t$ ls cifar-log\n",
    "\ttraining_loss_labels\n",
    "\ttraining_loss_total\n",
    "\tvalidation_loss_labels\n",
    "\tvalidation_loss_total\n",
    "\n",
    "For an example of using this log data, see our Tutorial_.\n",
    "\n",
    "```"
   ]
  },
  {
   "cell_type": "code",
   "execution_count": 24,
   "metadata": {
    "collapsed": false
   },
   "outputs": [
    {
     "name": "stdout",
     "output_type": "stream",
     "text": [
      "\u001b[34mcifar-log\u001b[m\u001b[m          cifar.results.pkl  mnist.results.pkl  speech.yml\r\n",
      "\u001b[34mcifar.best.train.w\u001b[m\u001b[m cifar.yml          \u001b[34mmnist.w\u001b[m\u001b[m\r\n",
      "\u001b[34mcifar.best.valid.w\u001b[m\u001b[m \u001b[34mlog\u001b[m\u001b[m                mnist.yml\r\n",
      "\u001b[34mcifar.last.w\u001b[m\u001b[m       mnist-defaults.yml norm.yml\r\n"
     ]
    }
   ],
   "source": [
    "!ls"
   ]
  },
  {
   "cell_type": "code",
   "execution_count": 25,
   "metadata": {
    "collapsed": false,
    "scrolled": true
   },
   "outputs": [
    {
     "name": "stdout",
     "output_type": "stream",
     "text": [
      "training_loss_labels   validation_loss_labels\r\n",
      "training_loss_total    validation_loss_total\r\n"
     ]
    }
   ],
   "source": [
    "!ls cifar-log"
   ]
  },
  {
   "cell_type": "code",
   "execution_count": 27,
   "metadata": {
    "collapsed": false
   },
   "outputs": [],
   "source": [
    "from kur.loggers import BinaryLogger\n",
    "data = BinaryLogger.load_column(\"cifar-log/\", \"training_loss_labels\")"
   ]
  },
  {
   "cell_type": "code",
   "execution_count": 28,
   "metadata": {
    "collapsed": false
   },
   "outputs": [
    {
     "data": {
      "text/plain": [
       "array([ 2.28883553,  2.38287163,  2.32052898,  2.27693081], dtype=float32)"
      ]
     },
     "execution_count": 28,
     "metadata": {},
     "output_type": "execute_result"
    }
   ],
   "source": [
    "data"
   ]
  },
  {
   "cell_type": "markdown",
   "metadata": {},
   "source": [
    "## Getting started with Kur"
   ]
  },
  {
   "cell_type": "markdown",
   "metadata": {},
   "source": [
    "```yaml\n",
    "kur [-v] {train | test | evaluate | build} KURFILE.yml\n",
    "```\n",
    "\n",
    "**What does `build` do?**\n",
    "- does not load the data set, and doesn't actually start training. \n",
    "- just assembles the model. \n",
    "- useful for debugging the construction of models, looking for obvious problems\n",
    "- while not bothering with loading and training on data just yet.\n",
    "\n",
    "**check process details**\n",
    "- `-v` to enable INFO-level output, or\n",
    "- `-vv` to enable DEBUG-level ouput (there's a lot). \n",
    "- You should definitely pay attention to any warnings or errors: they are indicative of something unexpected or wrong. - If Kur seems 'stuck', try enabling verbose output to see what it is up to.\n",
    "\n",
    "**Use yaml**\n",
    "- YAML documents need to start with three dashes: ``---``. Everything\n",
    "  you add to the file should go below those dashes.\n",
    "- Documents can be explicitly terminated by three periods: ``...``, but this is\n",
    "  optional.\n",
    "- YAML is a \"whitespace matters\" language. You should never use tabs in YAML.\n",
    "- YAML files should use the ``.yaml`` or ``.yml`` extension.\n",
    "- YAML comments start with the hash character: ``#``"
   ]
  },
  {
   "cell_type": "markdown",
   "metadata": {},
   "source": [
    "### Kurfile template\n",
    "\n",
    "```yml\n",
    "\n",
    "---\n",
    "\n",
    "# Other kurfiles to load (optional)\n",
    "include:                               # only need this if you've split your specification into\n",
    "                                       # multiple files. Otherwise, you can leave it empty or just remove it.\n",
    "\n",
    "# Global variables go here (optional)\n",
    "                                    # to reference using the templating engine later (e.g., data sets or model\n",
    "                                    # hyperparameters). If you don't have any variables, you can just leave this\n",
    "                                    # section empty or remote it.\n",
    "settings:   \n",
    "\n",
    "# Your core model goes here (required)\n",
    "model:\n",
    "\n",
    "  # Input data\n",
    "  - input: INPUT                                                          # put in variable name for features\n",
    "\n",
    "  # ... other layers ...\n",
    "\n",
    "  # Last layer. Change \"softmax\" if it is appropriate.\n",
    "  - activation: softmax\n",
    "    name: OUTPUT                                                          # put in variable name for labels\n",
    "                                                                          # check containers ################\n",
    "\n",
    "# All the information you need for training.\n",
    "train:\n",
    "\n",
    "  # Where to get training data from.\n",
    "  # NOTE: `TRAIN_DATA` needs to have dictionary keys named `INPUT` and\n",
    "  #       `OUTPUT`, corresponding to the `INPUT` and `OUTPUT` names in the\n",
    "  #       model section above.\n",
    "  # The values in that dictionary should be numpy arrays that you\n",
    "  #  want to feed into the Kur model\n",
    "  data:\n",
    "    - pickle: TRAIN_DATA\n",
    "\n",
    "  # Try playing with the batch size and watching accuracy and speed.\n",
    "  provider:\n",
    "    batch_size: 32\n",
    "\n",
    "  # How many epochs to train for.\n",
    "  epochs: 10\n",
    "\n",
    "  # Where to load and save weights.\n",
    "  weights:\n",
    "    initial: INITIAL_WEIGHTS\n",
    "    best: BEST_TRAINING_LOSS_WEIGHTS                                      # weights with lowest loss #####\n",
    "    last: MOST_RECENT_WEIGHTS                                     # weights with the last iterations #####\n",
    "\n",
    "  # The optimizer to use. Try doubling or halving the learning rate.\n",
    "  optimizer:\n",
    "    name: adam\n",
    "    learning_rate: 0.001\n",
    "\n",
    "# You need this section if you want to run validation checks during\n",
    "# training.\n",
    "validate:\n",
    "  data:\n",
    "    - pickle: VALIDATION_DATA\n",
    "\n",
    "  # Where to save the best validation weights.\n",
    "  weights: BEST_VALIDATION_LOSS_WEIGHTS\n",
    "\n",
    "# You need this section only if you want to run standalone test runs to\n",
    "# calculate loss.\n",
    "test:\n",
    "  data:\n",
    "    - pickle: TEST_DATA\n",
    "  # Which weights to use for testing.\n",
    "  weights: BEST_VALIDATION_LOSS_WEIGHTS\n",
    "\n",
    "# This section is for trying out your model on new data.\n",
    "evaluate:\n",
    "  # The data to supply as input. Unlike the train/validate/test sections,\n",
    "  # you do not need a corresponding `OUTPUT` key. But if you do supply one,    # no need for label variable ###\n",
    "  # Kur can save it to the output file for you so it's easy to use during\n",
    "  # post-processing\n",
    "  data:\n",
    "    - pickle: NEW_DATA\n",
    "\n",
    "  # Which weights to use for evaluation.\n",
    "  weights: BEST_VALIDATION_LOSS_WEIGHTS\n",
    "\n",
    "  # Where to save the result (as a Python pickle)\n",
    "  destination: RESULTS.pkl\n",
    "\n",
    "# Required for training, validation and testing\n",
    "loss:\n",
    "  # You need an entry whose target is `OUTPUT` from the model section above.\n",
    "  - target: OUTPUT\n",
    "\n",
    "    # The name of the loss function. Change it if appropriate\n",
    "    name: categorical_crossentropy\n",
    "...\n",
    "\n",
    "\n",
    "```"
   ]
  },
  {
   "cell_type": "markdown",
   "metadata": {},
   "source": [
    "## Tutorial from scratch\n",
    "**Create data-generating code with python and pickle**"
   ]
  },
  {
   "cell_type": "code",
   "execution_count": 30,
   "metadata": {
    "collapsed": false
   },
   "outputs": [
    {
     "name": "stdout",
     "output_type": "stream",
     "text": [
      "/Users/Natsume/Downloads/kur/examples/from_scratch\n"
     ]
    }
   ],
   "source": [
    "%cd from_scratch/"
   ]
  },
  {
   "cell_type": "code",
   "execution_count": 31,
   "metadata": {
    "collapsed": false
   },
   "outputs": [
    {
     "name": "stdout",
     "output_type": "stream",
     "text": [
      "Writing make_points.py\n"
     ]
    }
   ],
   "source": [
    "%%writefile make_points.py\n",
    "\n",
    "import sys\n",
    "import pickle\n",
    "import numpy\n",
    "\n",
    "if len(sys.argv) != 3:\n",
    "    print(\n",
    "        'Usage: {} NUM-SAMPLES OUTPUT-FILE'.format(sys.argv[0]),\n",
    "        file=sys.stderr\n",
    "    )\n",
    "    sys.exit(1)\n",
    "\n",
    "_, num_samples, output_file = sys.argv\n",
    "num_samples = int(num_samples)\n",
    "\n",
    "x = numpy.array([\n",
    "    numpy.random.uniform(-numpy.pi, numpy.pi, num_samples),\n",
    "    numpy.random.uniform(-1, 1, num_samples)\n",
    "]).T\n",
    "y = (numpy.sin(x[:,0]) < x[:,1]).astype(numpy.float32) * 2 - 1\n",
    "\n",
    "with open(output_file, 'wb') as fh:\n",
    "    fh.write(pickle.dumps({'point' : x, 'above' : y}))"
   ]
  },
  {
   "cell_type": "markdown",
   "metadata": {},
   "source": [
    "**Run py code to create four datasets**"
   ]
  },
  {
   "cell_type": "code",
   "execution_count": 33,
   "metadata": {
    "collapsed": true
   },
   "outputs": [],
   "source": [
    "!python make_points.py 10000 train.pkl\n",
    "!python make_points.py 1000 validate.pkl\n",
    "!python make_points.py 1000 test.pkl\n",
    "!python make_points.py 1000 evaluate.pkl"
   ]
  },
  {
   "cell_type": "markdown",
   "metadata": {},
   "source": [
    "**Check the datasets created**"
   ]
  },
  {
   "cell_type": "code",
   "execution_count": 34,
   "metadata": {
    "collapsed": false
   },
   "outputs": [
    {
     "name": "stdout",
     "output_type": "stream",
     "text": [
      "['above', 'point']\n",
      "[[ 2.48266488  0.89491483]\n",
      " [-1.17371733  0.37450378]\n",
      " [-0.4435049   0.79330212]\n",
      " [-1.7577413   0.51205784]\n",
      " [ 1.51928989  0.83517366]\n",
      " [-2.71184137 -0.08747709]\n",
      " [ 2.21113158  0.22136771]\n",
      " [ 0.65728594 -0.54636853]\n",
      " [-0.464383   -0.71697229]\n",
      " [-1.63733696 -0.19025727]]\n",
      "[ 1.  1.  1.  1. -1.  1. -1. -1. -1.  1.]\n"
     ]
    }
   ],
   "source": [
    "import pickle\n",
    "import numpy\n",
    "with open('train.pkl', 'rb') as fh:\n",
    "     data = pickle.loads(fh.read())\n",
    "\n",
    "print(list(data.keys()))\n",
    "\n",
    "print(data['point'][:10])\n",
    "\n",
    "print(data['above'][:10])\n"
   ]
  },
  {
   "cell_type": "markdown",
   "metadata": {},
   "source": [
    "**Plot the datasets**\n",
    "    "
   ]
  },
  {
   "cell_type": "code",
   "execution_count": 35,
   "metadata": {
    "collapsed": false
   },
   "outputs": [
    {
     "data": {
      "image/png": "[encoded data removed]",
      "text/plain": [
       "<matplotlib.figure.Figure at 0x1100be278>"
      ]
     },
     "metadata": {},
     "output_type": "display_data"
    }
   ],
   "source": [
    "import matplotlib.pyplot as plt\n",
    "above = data['above'] > 0\n",
    "plt.xlim(-numpy.pi, numpy.pi)\n",
    "plt.plot(data['point'][above,0], data['point'][above,1], 'ro')\n",
    "plt.plot(data['point'][~above,0], data['point'][~above,1], 'bo')\n",
    "X = numpy.linspace(-numpy.pi, numpy.pi)\n",
    "plt.plot(X, numpy.sin(X), 'k', linewidth=5)\n",
    "plt.show()    "
   ]
  },
  {
   "cell_type": "markdown",
   "metadata": {},
   "source": [
    "**Build Kurfile for scratch**"
   ]
  },
  {
   "cell_type": "code",
   "execution_count": 38,
   "metadata": {
    "collapsed": false
   },
   "outputs": [
    {
     "name": "stdout",
     "output_type": "stream",
     "text": [
      "Overwriting tutorial.yml\n"
     ]
    }
   ],
   "source": [
    "%%writefile tutorial.yml\n",
    "\n",
    "---\n",
    "model:\n",
    "  - input: point\n",
    "  - dense: 128\n",
    "  - activation: tanh\n",
    "  - dense: 1\n",
    "  - activation: tanh\n",
    "    name: above\n",
    "\n",
    "train:\n",
    "  data:\n",
    "    - pickle: train.pkl\n",
    "  epochs: 10\n",
    "  weights: best.w              # what if it is the first run without best.w? ####\n",
    "  log: tutorial-log\n",
    "\n",
    "validate:\n",
    "  data:\n",
    "    - pickle: validate.pkl\n",
    "  weights: best.w\n",
    "\n",
    "test:\n",
    "  data:\n",
    "    - pickle: test.pkl\n",
    "  weights: best.w\n",
    "\n",
    "evaluate:\n",
    "  data:\n",
    "    - pickle: evaluate.pkl\n",
    "  weights: best.w\n",
    "  destination: output.pkl\n",
    "\n",
    "loss:\n",
    "  - target: above\n",
    "    name: mean_squared_error\n",
    "..."
   ]
  },
  {
   "cell_type": "code",
   "execution_count": 42,
   "metadata": {
    "collapsed": false
   },
   "outputs": [
    {
     "name": "stdout",
     "output_type": "stream",
     "text": [
      "\u001b[1;37m[INFO 2017-02-26 20:33:11,475 kur.kurfile:638]\u001b[0m Parsing source: tutorial.yml, included by top-level.\u001b[0m\n",
      "\u001b[1;37m[INFO 2017-02-26 20:33:11,481 kur.kurfile:79]\u001b[0m Parsing Kurfile...\u001b[0m\n",
      "\u001b[1;37m[INFO 2017-02-26 20:33:11,490 kur.loggers.binary_logger:87]\u001b[0m Log does not exist. Creating path: tutorial-log\u001b[0m\n",
      "\u001b[1;37m[INFO 2017-02-26 20:33:11,492 kur.providers.batch_provider:54]\u001b[0m Batch size set to: 32\u001b[0m\n",
      "\u001b[1;37m[INFO 2017-02-26 20:33:11,493 kur.providers.batch_provider:54]\u001b[0m Batch size set to: 32\u001b[0m\n",
      "\u001b[1;37m[INFO 2017-02-26 20:33:11,494 kur.backend.backend:80]\u001b[0m Creating backend: keras\u001b[0m\n",
      "\u001b[1;37m[INFO 2017-02-26 20:33:11,494 kur.backend.backend:83]\u001b[0m Backend variants: none\u001b[0m\n",
      "\u001b[1;37m[INFO 2017-02-26 20:33:11,494 kur.backend.keras_backend:122]\u001b[0m No particular backend for Keras has been requested.\u001b[0m\n",
      "\u001b[1;37m[INFO 2017-02-26 20:33:12,578 kur.backend.keras_backend:191]\u001b[0m Keras is loaded. The backend is: theano\u001b[0m\n",
      "\u001b[1;37m[INFO 2017-02-26 20:33:12,579 kur.model.model:260]\u001b[0m Enumerating the model containers.\u001b[0m\n",
      "\u001b[1;37m[INFO 2017-02-26 20:33:12,579 kur.model.model:265]\u001b[0m Assembling the model dependency graph.\u001b[0m\n",
      "\u001b[1;37m[INFO 2017-02-26 20:33:12,579 kur.model.model:280]\u001b[0m Connecting the model graph.\u001b[0m\n",
      "\u001b[1;37m[INFO 2017-02-26 20:33:12,598 kur.model.model:284]\u001b[0m Model inputs:  point\u001b[0m\n",
      "\u001b[1;37m[INFO 2017-02-26 20:33:12,598 kur.model.model:285]\u001b[0m Model outputs: above\u001b[0m\n",
      "\u001b[1;37m[INFO 2017-02-26 20:33:12,598 kur.kurfile:310]\u001b[0m Ignoring missing initial weights: best.w. If this is undesireable, set \"must_exist\" to \"yes\" in the approriate \"weights\" section.\u001b[0m\n",
      "\u001b[1;37m[INFO 2017-02-26 20:33:23,072 kur.providers.batch_provider:54]\u001b[0m Batch size set to: 2\u001b[0m\n",
      "\u001b[1;37m[INFO 2017-02-26 20:33:23,073 kur.providers.batch_provider:60]\u001b[0m Maximum number of batches set to: 1\u001b[0m\n",
      "\u001b[1;37m[INFO 2017-02-26 20:33:23,074 kur.backend.keras_backend:654]\u001b[0m Waiting for model to finish compiling...\u001b[0m\n",
      "\u001b[1;37m[INFO 2017-02-26 20:33:23,116 kur.model.executor:256]\u001b[0m No historical training loss available from logs.\u001b[0m\n",
      "\u001b[1;37m[INFO 2017-02-26 20:33:23,116 kur.model.executor:264]\u001b[0m No historical validation loss available from logs.\u001b[0m\n",
      "\u001b[1;37m[INFO 2017-02-26 20:33:23,116 kur.model.executor:270]\u001b[0m No previous epochs.\u001b[0m\n",
      "\n",
      "Epoch 1/10, loss=0.482: 100%|█████| 10000/10000 [00:00<00:00, 63823.53samples/s]\n",
      "\u001b[1;37m[INFO 2017-02-26 20:33:23,278 kur.model.executor:390]\u001b[0m Training loss: 0.482\u001b[0m\n",
      "\u001b[1;37m[INFO 2017-02-26 20:33:25,024 kur.providers.batch_provider:54]\u001b[0m Batch size set to: 2\u001b[0m\n",
      "\u001b[1;37m[INFO 2017-02-26 20:33:25,024 kur.providers.batch_provider:60]\u001b[0m Maximum number of batches set to: 1\u001b[0m\n",
      "\u001b[1;37m[INFO 2017-02-26 20:33:25,026 kur.backend.keras_backend:654]\u001b[0m Waiting for model to finish compiling...\u001b[0m\n",
      "Validating, loss=0.462: 100%|███████| 1000/1000 [00:00<00:00, 82141.40samples/s]\n",
      "\u001b[1;37m[INFO 2017-02-26 20:33:25,040 kur.model.executor:175]\u001b[0m Validation loss: 0.462\u001b[0m\n",
      "\u001b[1;37m[INFO 2017-02-26 20:33:25,041 kur.model.executor:422]\u001b[0m Saving best historical validation weights: best.w\u001b[0m\n",
      "\n",
      "Epoch 2/10, loss=0.420: 100%|█████| 10000/10000 [00:00<00:00, 57178.78samples/s]\n",
      "\u001b[1;37m[INFO 2017-02-26 20:33:25,219 kur.model.executor:390]\u001b[0m Training loss: 0.420\u001b[0m\n",
      "Validating, loss=0.383: 100%|██████| 1000/1000 [00:00<00:00, 109660.74samples/s]\n",
      "\u001b[1;37m[INFO 2017-02-26 20:33:25,230 kur.model.executor:175]\u001b[0m Validation loss: 0.383\u001b[0m\n",
      "\u001b[1;37m[INFO 2017-02-26 20:33:25,230 kur.model.executor:422]\u001b[0m Saving best historical validation weights: best.w\u001b[0m\n",
      "\n",
      "Epoch 3/10, loss=0.311: 100%|█████| 10000/10000 [00:00<00:00, 63883.90samples/s]\n",
      "\u001b[1;37m[INFO 2017-02-26 20:33:25,389 kur.model.executor:390]\u001b[0m Training loss: 0.311\u001b[0m\n",
      "Validating, loss=0.249: 100%|██████| 1000/1000 [00:00<00:00, 115819.96samples/s]\n",
      "\u001b[1;37m[INFO 2017-02-26 20:33:25,400 kur.model.executor:175]\u001b[0m Validation loss: 0.249\u001b[0m\n",
      "\u001b[1;37m[INFO 2017-02-26 20:33:25,400 kur.model.executor:422]\u001b[0m Saving best historical validation weights: best.w\u001b[0m\n",
      "\n",
      "Epoch 4/10, loss=0.219: 100%|█████| 10000/10000 [00:00<00:00, 62436.70samples/s]\n",
      "\u001b[1;37m[INFO 2017-02-26 20:33:25,563 kur.model.executor:390]\u001b[0m Training loss: 0.219\u001b[0m\n",
      "Validating, loss=0.186: 100%|███████| 1000/1000 [00:00<00:00, 69497.35samples/s]\n",
      "\u001b[1;37m[INFO 2017-02-26 20:33:25,579 kur.model.executor:175]\u001b[0m Validation loss: 0.186\u001b[0m\n",
      "\u001b[1;37m[INFO 2017-02-26 20:33:25,579 kur.model.executor:422]\u001b[0m Saving best historical validation weights: best.w\u001b[0m\n",
      "\n",
      "Epoch 5/10, loss=0.174: 100%|█████| 10000/10000 [00:00<00:00, 60866.14samples/s]\n",
      "\u001b[1;37m[INFO 2017-02-26 20:33:25,746 kur.model.executor:390]\u001b[0m Training loss: 0.174\u001b[0m\n",
      "Validating, loss=0.154: 100%|███████| 1000/1000 [00:00<00:00, 77616.24samples/s]\n",
      "\u001b[1;37m[INFO 2017-02-26 20:33:25,761 kur.model.executor:175]\u001b[0m Validation loss: 0.154\u001b[0m\n",
      "\u001b[1;37m[INFO 2017-02-26 20:33:25,761 kur.model.executor:422]\u001b[0m Saving best historical validation weights: best.w\u001b[0m\n",
      "\n",
      "Epoch 6/10, loss=0.148: 100%|█████| 10000/10000 [00:00<00:00, 55776.51samples/s]\n",
      "\u001b[1;37m[INFO 2017-02-26 20:33:25,944 kur.model.executor:390]\u001b[0m Training loss: 0.148\u001b[0m\n",
      "Validating, loss=0.128: 100%|██████| 1000/1000 [00:00<00:00, 102300.10samples/s]\n",
      "\u001b[1;37m[INFO 2017-02-26 20:33:25,956 kur.model.executor:175]\u001b[0m Validation loss: 0.128\u001b[0m\n",
      "\u001b[1;37m[INFO 2017-02-26 20:33:25,956 kur.model.executor:422]\u001b[0m Saving best historical validation weights: best.w\u001b[0m\n",
      "\n",
      "Epoch 7/10, loss=0.129: 100%|█████| 10000/10000 [00:00<00:00, 52064.61samples/s]\n",
      "\u001b[1;37m[INFO 2017-02-26 20:33:26,151 kur.model.executor:390]\u001b[0m Training loss: 0.129\u001b[0m\n",
      "Validating, loss=0.114: 100%|██████| 1000/1000 [00:00<00:00, 102783.93samples/s]\n",
      "\u001b[1;37m[INFO 2017-02-26 20:33:26,163 kur.model.executor:175]\u001b[0m Validation loss: 0.114\u001b[0m\n",
      "\u001b[1;37m[INFO 2017-02-26 20:33:26,164 kur.model.executor:422]\u001b[0m Saving best historical validation weights: best.w\u001b[0m\n",
      "\n",
      "Epoch 8/10, loss=0.115: 100%|█████| 10000/10000 [00:00<00:00, 63008.38samples/s]\n",
      "\u001b[1;37m[INFO 2017-02-26 20:33:26,325 kur.model.executor:390]\u001b[0m Training loss: 0.115\u001b[0m\n",
      "Validating, loss=0.104: 100%|██████| 1000/1000 [00:00<00:00, 122744.55samples/s]\n",
      "\u001b[1;37m[INFO 2017-02-26 20:33:26,335 kur.model.executor:175]\u001b[0m Validation loss: 0.104\u001b[0m\n",
      "\u001b[1;37m[INFO 2017-02-26 20:33:26,335 kur.model.executor:422]\u001b[0m Saving best historical validation weights: best.w\u001b[0m\n",
      "\n",
      "Epoch 9/10, loss=0.105: 100%|█████| 10000/10000 [00:00<00:00, 70286.84samples/s]\n",
      "\u001b[1;37m[INFO 2017-02-26 20:33:26,481 kur.model.executor:390]\u001b[0m Training loss: 0.105\u001b[0m\n",
      "Validating, loss=0.093: 100%|███████| 1000/1000 [00:00<00:00, 65240.38samples/s]\n",
      "\u001b[1;37m[INFO 2017-02-26 20:33:26,498 kur.model.executor:175]\u001b[0m Validation loss: 0.093\u001b[0m\n",
      "\u001b[1;37m[INFO 2017-02-26 20:33:26,498 kur.model.executor:422]\u001b[0m Saving best historical validation weights: best.w\u001b[0m\n",
      "\n",
      "Epoch 10/10, loss=0.097: 100%|████| 10000/10000 [00:00<00:00, 59475.70samples/s]\n",
      "\u001b[1;37m[INFO 2017-02-26 20:33:26,670 kur.model.executor:390]\u001b[0m Training loss: 0.097\u001b[0m\n",
      "Validating, loss=0.086: 100%|██████| 1000/1000 [00:00<00:00, 101368.01samples/s]\n",
      "\u001b[1;37m[INFO 2017-02-26 20:33:26,682 kur.model.executor:175]\u001b[0m Validation loss: 0.086\u001b[0m\n",
      "\u001b[1;37m[INFO 2017-02-26 20:33:26,682 kur.model.executor:422]\u001b[0m Saving best historical validation weights: best.w\u001b[0m\n",
      "Completed 10 epochs.\n"
     ]
    }
   ],
   "source": [
    "!kur -v train tutorial.yml"
   ]
  },
  {
   "cell_type": "code",
   "execution_count": 43,
   "metadata": {
    "collapsed": false
   },
   "outputs": [
    {
     "name": "stdout",
     "output_type": "stream",
     "text": [
      "\u001b[1;37m[INFO 2017-02-26 20:33:55,726 kur.kurfile:638]\u001b[0m Parsing source: tutorial.yml, included by top-level.\u001b[0m\n",
      "\u001b[1;37m[INFO 2017-02-26 20:33:55,732 kur.kurfile:79]\u001b[0m Parsing Kurfile...\u001b[0m\n",
      "\u001b[1;37m[INFO 2017-02-26 20:33:55,743 kur.providers.batch_provider:54]\u001b[0m Batch size set to: 32\u001b[0m\n",
      "\u001b[1;37m[INFO 2017-02-26 20:33:55,744 kur.backend.backend:80]\u001b[0m Creating backend: keras\u001b[0m\n",
      "\u001b[1;37m[INFO 2017-02-26 20:33:55,744 kur.backend.backend:83]\u001b[0m Backend variants: none\u001b[0m\n",
      "\u001b[1;37m[INFO 2017-02-26 20:33:55,744 kur.backend.keras_backend:122]\u001b[0m No particular backend for Keras has been requested.\u001b[0m\n",
      "\u001b[1;37m[INFO 2017-02-26 20:33:56,787 kur.backend.keras_backend:191]\u001b[0m Keras is loaded. The backend is: theano\u001b[0m\n",
      "\u001b[1;37m[INFO 2017-02-26 20:33:56,788 kur.model.model:260]\u001b[0m Enumerating the model containers.\u001b[0m\n",
      "\u001b[1;37m[INFO 2017-02-26 20:33:56,788 kur.model.model:265]\u001b[0m Assembling the model dependency graph.\u001b[0m\n",
      "\u001b[1;37m[INFO 2017-02-26 20:33:56,788 kur.model.model:280]\u001b[0m Connecting the model graph.\u001b[0m\n",
      "\u001b[1;37m[INFO 2017-02-26 20:33:56,811 kur.model.model:284]\u001b[0m Model inputs:  point\u001b[0m\n",
      "\u001b[1;37m[INFO 2017-02-26 20:33:56,812 kur.model.model:285]\u001b[0m Model outputs: above\u001b[0m\n",
      "\u001b[1;37m[INFO 2017-02-26 20:33:57,687 kur.providers.batch_provider:54]\u001b[0m Batch size set to: 2\u001b[0m\n",
      "\u001b[1;37m[INFO 2017-02-26 20:33:57,688 kur.providers.batch_provider:60]\u001b[0m Maximum number of batches set to: 1\u001b[0m\n",
      "\u001b[1;37m[INFO 2017-02-26 20:33:57,689 kur.backend.keras_backend:654]\u001b[0m Waiting for model to finish compiling...\u001b[0m\n",
      "Evaluating: 100%|███████████████████| 1000/1000 [00:00<00:00, 79314.40samples/s]\n",
      "\u001b[1;37m[INFO 2017-02-26 20:33:57,736 kur.model.hooks.output_hook:40]\u001b[0m Saving model output as pickle: output.pkl\u001b[0m\n"
     ]
    }
   ],
   "source": [
    "!kur -v evaluate tutorial.yml"
   ]
  },
  {
   "cell_type": "code",
   "execution_count": 44,
   "metadata": {
    "collapsed": false
   },
   "outputs": [
    {
     "name": "stdout",
     "output_type": "stream",
     "text": [
      "\u001b[1;37m[INFO 2017-02-26 20:34:23,138 kur.kurfile:638]\u001b[0m Parsing source: tutorial.yml, included by top-level.\u001b[0m\n",
      "\u001b[1;37m[INFO 2017-02-26 20:34:23,143 kur.kurfile:79]\u001b[0m Parsing Kurfile...\u001b[0m\n",
      "\u001b[1;37m[INFO 2017-02-26 20:34:23,155 kur.providers.batch_provider:54]\u001b[0m Batch size set to: 32\u001b[0m\n",
      "\u001b[1;37m[INFO 2017-02-26 20:34:23,156 kur.backend.backend:80]\u001b[0m Creating backend: keras\u001b[0m\n",
      "\u001b[1;37m[INFO 2017-02-26 20:34:23,156 kur.backend.backend:83]\u001b[0m Backend variants: none\u001b[0m\n",
      "\u001b[1;37m[INFO 2017-02-26 20:34:23,156 kur.backend.keras_backend:122]\u001b[0m No particular backend for Keras has been requested.\u001b[0m\n",
      "\u001b[1;37m[INFO 2017-02-26 20:34:23,933 kur.backend.keras_backend:191]\u001b[0m Keras is loaded. The backend is: theano\u001b[0m\n",
      "\u001b[1;37m[INFO 2017-02-26 20:34:23,934 kur.model.model:260]\u001b[0m Enumerating the model containers.\u001b[0m\n",
      "\u001b[1;37m[INFO 2017-02-26 20:34:23,934 kur.model.model:265]\u001b[0m Assembling the model dependency graph.\u001b[0m\n",
      "\u001b[1;37m[INFO 2017-02-26 20:34:23,934 kur.model.model:280]\u001b[0m Connecting the model graph.\u001b[0m\n",
      "\u001b[1;37m[INFO 2017-02-26 20:34:23,941 kur.model.model:284]\u001b[0m Model inputs:  point\u001b[0m\n",
      "\u001b[1;37m[INFO 2017-02-26 20:34:23,942 kur.model.model:285]\u001b[0m Model outputs: above\u001b[0m\n",
      "\u001b[1;37m[INFO 2017-02-26 20:34:24,889 kur.providers.batch_provider:54]\u001b[0m Batch size set to: 2\u001b[0m\n",
      "\u001b[1;37m[INFO 2017-02-26 20:34:24,890 kur.providers.batch_provider:60]\u001b[0m Maximum number of batches set to: 1\u001b[0m\n",
      "\u001b[1;37m[INFO 2017-02-26 20:34:24,892 kur.backend.keras_backend:654]\u001b[0m Waiting for model to finish compiling...\u001b[0m\n",
      "Testing, loss=0.088: 100%|██████████| 1000/1000 [00:00<00:00, 48411.83samples/s]\n",
      "\u001b[1;37m[INFO 2017-02-26 20:34:24,959 kur.model.executor:175]\u001b[0m Test loss: 0.088\u001b[0m\n"
     ]
    }
   ],
   "source": [
    "!kur -v test tutorial.yml"
   ]
  },
  {
   "cell_type": "code",
   "execution_count": 108,
   "metadata": {
    "collapsed": false
   },
   "outputs": [
    {
     "name": "stdout",
     "output_type": "stream",
     "text": [
      "training_loss_above   validation_loss_above\r\n",
      "training_loss_total   validation_loss_total\r\n"
     ]
    }
   ],
   "source": [
    "!ls tutorial-log"
   ]
  },
  {
   "cell_type": "code",
   "execution_count": 109,
   "metadata": {
    "collapsed": false
   },
   "outputs": [
    {
     "name": "stdout",
     "output_type": "stream",
     "text": [
      "[ 0.48150712  0.41997892  0.31080344  0.21871923  0.17397912  0.14766917\n",
      "  0.12866163  0.11509474  0.10548096  0.096509  ]\n"
     ]
    },
    {
     "data": {
      "text/plain": [
       "array([ 0.48150712,  0.41997892,  0.31080344,  0.21871923,  0.17397912,\n",
       "        0.14766917,  0.12866163,  0.11509474,  0.10548096,  0.096509  ], dtype=float32)"
      ]
     },
     "execution_count": 109,
     "metadata": {},
     "output_type": "execute_result"
    }
   ],
   "source": [
    "from kur.loggers import BinaryLogger\n",
    "training_loss = BinaryLogger.load_column('tutorial-log', 'training_loss_total') \n",
    "validation_loss = BinaryLogger.load_column('tutorial-log', 'validation_loss_total') \n",
    "training_loss_above = BinaryLogger.load_column('tutorial-log', 'training_loss_above') \n",
    "print(training_loss_above) # get training loss for each epoch\n",
    "training_loss"
   ]
  },
  {
   "cell_type": "code",
   "execution_count": 46,
   "metadata": {
    "collapsed": false
   },
   "outputs": [
    {
     "data": {
      "image/png": "[encoded data removed]",
      "text/plain": [
       "<matplotlib.figure.Figure at 0x11404b908>"
      ]
     },
     "metadata": {},
     "output_type": "display_data"
    }
   ],
   "source": [
    "import matplotlib.pyplot as plt\n",
    "plt.xlabel('Epoch')\n",
    "plt.ylabel('Loss')\n",
    "epoch = list(range(1, 1+len(training_loss)))\n",
    "t_line, = plt.plot(epoch, training_loss, 'co-', label='Training Loss')\n",
    "v_line, = plt.plot(epoch, validation_loss, 'mo-', label='Validation Loss')\n",
    "plt.legend(handles=[t_line, v_line])\n",
    "plt.show()"
   ]
  },
  {
   "cell_type": "code",
   "execution_count": 98,
   "metadata": {
    "collapsed": false
   },
   "outputs": [
    {
     "name": "stdout",
     "output_type": "stream",
     "text": [
      "<class 'dict'>\n",
      "['result', 'truth']\n",
      "['above']\n",
      "['above']\n",
      "<class 'list'>\n",
      "<class 'list'>\n",
      "[-1.0, -1.0, 1.0, 1.0, 1.0]\n",
      "[array([-0.42590815], dtype=float32), array([-0.98776275], dtype=float32), array([ 0.96575135], dtype=float32), array([ 0.99999297], dtype=float32), array([ 0.99934262], dtype=float32)]\n"
     ]
    }
   ],
   "source": [
    "import pickle\n",
    "import numpy\n",
    "with open('output.pkl', 'rb') as fh:\n",
    "    data = pickle.loads(fh.read())\n",
    "\n",
    "print(type(data))    \n",
    "print(list(data.keys()))\n",
    "print(list(data['result'].keys()))\n",
    "print(list(data['truth'].keys()))\n",
    "print(type(data['result']['above']))\n",
    "print(type(data['truth']['above']))\n",
    "print(data['truth']['above'][0:5])\n",
    "print(data['result']['above'][0:5])"
   ]
  },
  {
   "cell_type": "markdown",
   "metadata": {},
   "source": [
    "**Structure of output file**\n",
    "```json\n",
    "{\n",
    "    'truth' : {\n",
    "        'above' : list of float number -1.0 or 1.0\n",
    "    },\n",
    "    'result' : {\n",
    "        'above' : list of np.array of float scalar between -1.0 and 1.0\n",
    "    }\n",
    "}\n",
    "```"
   ]
  },
  {
   "cell_type": "code",
   "execution_count": 97,
   "metadata": {
    "collapsed": false
   },
   "outputs": [
    {
     "data": {
      "text/plain": [
       "98.0"
      ]
     },
     "execution_count": 97,
     "metadata": {},
     "output_type": "execute_result"
    }
   ],
   "source": [
    "# diff = numpy.abs(data['truth']['above'] - data['result']['above']) < 1\n",
    "diff = np.array([np.abs(a - b[0]) for a, b in zip(data['truth']['above'], data['result']['above'])]) < 1\n",
    "correct = diff.sum()\n",
    "total = len(diff)\n",
    "correct / total * 100"
   ]
  },
  {
   "cell_type": "code",
   "execution_count": 104,
   "metadata": {
    "collapsed": false
   },
   "outputs": [
    {
     "ename": "TypeError",
     "evalue": "only integer scalar arrays can be converted to a scalar index",
     "output_type": "error",
     "traceback": [
      "\u001b[0;31m------------------------------------------------------\u001b[0m",
      "\u001b[0;31mTypeError\u001b[0m            Traceback (most recent call last)",
      "\u001b[0;32m<ipython-input-104-6969ab5f4393>\u001b[0m in \u001b[0;36m<module>\u001b[0;34m()\u001b[0m\n\u001b[1;32m      1\u001b[0m \u001b[0;32mimport\u001b[0m \u001b[0mmatplotlib\u001b[0m\u001b[0;34m.\u001b[0m\u001b[0mpyplot\u001b[0m \u001b[0;32mas\u001b[0m \u001b[0mplt\u001b[0m\u001b[0;34m\u001b[0m\u001b[0m\n\u001b[1;32m      2\u001b[0m \u001b[0;31m# should_be_above = np.array([a*(b[0]) for a, b in zip(data['truth']['above'], data['result']['above'])])\u001b[0m\u001b[0;34m\u001b[0m\u001b[0;34m\u001b[0m\u001b[0m\n\u001b[0;32m----> 3\u001b[0;31m \u001b[0mshould_be_above\u001b[0m \u001b[0;34m=\u001b[0m \u001b[0mdata\u001b[0m\u001b[0;34m[\u001b[0m\u001b[0;34m'result'\u001b[0m\u001b[0;34m]\u001b[0m\u001b[0;34m[\u001b[0m\u001b[0;34m'above'\u001b[0m\u001b[0;34m]\u001b[0m\u001b[0;34m[\u001b[0m\u001b[0mnp\u001b[0m\u001b[0;34m.\u001b[0m\u001b[0marray\u001b[0m\u001b[0;34m(\u001b[0m\u001b[0mdata\u001b[0m\u001b[0;34m[\u001b[0m\u001b[0;34m'truth'\u001b[0m\u001b[0;34m]\u001b[0m\u001b[0;34m[\u001b[0m\u001b[0;34m'above'\u001b[0m\u001b[0;34m]\u001b[0m\u001b[0;34m)\u001b[0m \u001b[0;34m>\u001b[0m \u001b[0;36m0\u001b[0m\u001b[0;34m]\u001b[0m\u001b[0;34m\u001b[0m\u001b[0m\n\u001b[0m\u001b[1;32m      4\u001b[0m \u001b[0mshould_be_below\u001b[0m \u001b[0;34m=\u001b[0m \u001b[0mdata\u001b[0m\u001b[0;34m[\u001b[0m\u001b[0;34m'result'\u001b[0m\u001b[0;34m]\u001b[0m\u001b[0;34m[\u001b[0m\u001b[0;34m'above'\u001b[0m\u001b[0;34m]\u001b[0m\u001b[0;34m[\u001b[0m\u001b[0mnp\u001b[0m\u001b[0;34m.\u001b[0m\u001b[0marray\u001b[0m\u001b[0;34m(\u001b[0m\u001b[0mdata\u001b[0m\u001b[0;34m[\u001b[0m\u001b[0;34m'truth'\u001b[0m\u001b[0;34m]\u001b[0m\u001b[0;34m[\u001b[0m\u001b[0;34m'above'\u001b[0m\u001b[0;34m]\u001b[0m\u001b[0;34m)\u001b[0m \u001b[0;34m<\u001b[0m \u001b[0;36m0\u001b[0m\u001b[0;34m]\u001b[0m\u001b[0;34m\u001b[0m\u001b[0m\n\u001b[1;32m      5\u001b[0m \u001b[0mplt\u001b[0m\u001b[0;34m.\u001b[0m\u001b[0mxlabel\u001b[0m\u001b[0;34m(\u001b[0m\u001b[0;34m'Model output'\u001b[0m\u001b[0;34m)\u001b[0m\u001b[0;34m\u001b[0m\u001b[0m\n",
      "\u001b[0;31mTypeError\u001b[0m: only integer scalar arrays can be converted to a scalar index"
     ]
    }
   ],
   "source": [
    "import matplotlib.pyplot as plt\n",
    "# should_be_above = np.array([a*(b[0]) for a, b in zip(data['truth']['above'], data['result']['above'])])\n",
    "should_be_above = data['result']['above'][np.array(data['truth']['above']) > 0]\n",
    "should_be_below = data['result']['above'][np.array(data['truth']['above']) < 0]\n",
    "plt.xlabel('Model output')\n",
    "plt.ylabel('Counts')\n",
    "plt.xlim(-1, 1)\n",
    "plt.hist(should_be_above, 20, facecolor='r', alpha=0.5, range=(-1, 1))\n",
    "plt.hist(should_be_below, 20, facecolor='b', alpha=0.5, range=(-1, 1))\n",
    "plt.show()"
   ]
  },
  {
   "cell_type": "code",
   "execution_count": 106,
   "metadata": {
    "collapsed": false
   },
   "outputs": [
    {
     "ename": "AttributeError",
     "evalue": "'list' object has no attribute 'flatten'",
     "output_type": "error",
     "traceback": [
      "\u001b[0;31m------------------------------------------------------\u001b[0m",
      "\u001b[0;31mAttributeError\u001b[0m       Traceback (most recent call last)",
      "\u001b[0;32m<ipython-input-106-67cbd3d9ac3e>\u001b[0m in \u001b[0;36m<module>\u001b[0;34m()\u001b[0m\n\u001b[1;32m      7\u001b[0m     \u001b[0mevaluate\u001b[0m \u001b[0;34m=\u001b[0m \u001b[0mpickle\u001b[0m\u001b[0;34m.\u001b[0m\u001b[0mloads\u001b[0m\u001b[0;34m(\u001b[0m\u001b[0mfh\u001b[0m\u001b[0;34m.\u001b[0m\u001b[0mread\u001b[0m\u001b[0;34m(\u001b[0m\u001b[0;34m)\u001b[0m\u001b[0;34m)\u001b[0m\u001b[0;34m\u001b[0m\u001b[0m\n\u001b[1;32m      8\u001b[0m \u001b[0;34m\u001b[0m\u001b[0m\n\u001b[0;32m----> 9\u001b[0;31m \u001b[0mabove\u001b[0m \u001b[0;34m=\u001b[0m \u001b[0moutput\u001b[0m\u001b[0;34m[\u001b[0m\u001b[0;34m'result'\u001b[0m\u001b[0;34m]\u001b[0m\u001b[0;34m[\u001b[0m\u001b[0;34m'above'\u001b[0m\u001b[0;34m]\u001b[0m\u001b[0;34m.\u001b[0m\u001b[0mflatten\u001b[0m\u001b[0;34m(\u001b[0m\u001b[0;34m)\u001b[0m \u001b[0;34m>\u001b[0m \u001b[0;36m0\u001b[0m\u001b[0;34m\u001b[0m\u001b[0m\n\u001b[0m",
      "\u001b[0;31mAttributeError\u001b[0m: 'list' object has no attribute 'flatten'"
     ]
    }
   ],
   "source": [
    "import pickle\n",
    "import numpy\n",
    "with open('output.pkl', 'rb') as fh:\n",
    "    output = pickle.loads(fh.read())\n",
    "\n",
    "with open('evaluate.pkl', 'rb') as fh:\n",
    "    evaluate = pickle.loads(fh.read())\n",
    "\n",
    "above = output['result']['above'].flatten() > 0"
   ]
  },
  {
   "cell_type": "markdown",
   "metadata": {},
   "source": [
    "### Questions to Kur team\n",
    "How to make the most out of Kur? \n",
    "- Goal: I want a job in deep learning, and I would like to invest time in using kur and contribute to kur in any way I could\n",
    "- Current status: I am taking deep learning foundation nanodegree like a full time student at the moment, and intend to take Driverless Nanodegree and Artificial Intelligence Nanodegree in late half of 2017.\n",
    "- I love kur in the first sight, because I believe get deep learning intuition is priority and how to code everything up is essential but secondary. It looks kur can help me build and experiment on deep learning models with much greater efficiency and flexibility.\n",
    "- but how flexible can kur be? can it be as flexible as tensorflow, which is the only library we are using at the moment for deep learning (at Udacity Deep learning foundation nanodegree). Also in the latest kur post on Baidu deep speech, author encourage us to implement deep learning papers with kur (I like this idea very much and I really want to do this), which indicates kur can be extremely flexible like tensorflow, to freely create all the newly invented techniques. Are there available examples to demonstrate such flexiblity of kur?\n",
    "- Although it is exciting to see that kur requires users with no programming skills, I believe ability to understand and code in tensorflow should be a great help in studying and using kur. Meanwhile kur should be able to help me experiment on deep learning more efficiently and in depth than other libraries. However, I don't know how yet. Could you shed some light on this for me?\n",
    "- One thing I can think of doing is trying to rewrite my projects in Udacity degree with Kur, this way I can see how can kur match up with tensorflow on the level of the course?\n",
    "- Do I need to study Ninja2 to use kur to its full potential?\n",
    "- Besides rewriting deep learning tensorflow tutorials in kur, I think it is pretty cool to be able to contribute to kur development. What can I learn by contributing to kur development? What do I need to know well in order to contribute to kur's development?"
   ]
  },
  {
   "cell_type": "markdown",
   "metadata": {},
   "source": [
    "# How to recognise trend by eyes?\n",
    "\n",
    "- show how fast or slow price up or down: \n",
    "    - think of physics:\n",
    "    - how much force and acceleration needed to shoot price up or keep price at high level\n",
    "    - how to define anti-gravity forces, acceleration, rational price level(under, over, rightly valued price)\n",
    "- force1: the amount of net cash in and out: color on price\n",
    "- force2: large block transaction into or out of private funds: color on price\n",
    "- force-indicator1: how fast or slow volume up or down\n",
    "- force-indicator2: how fast or slow price up or down\n",
    "work on Tableau"
   ]
  },
  {
   "cell_type": "markdown",
   "metadata": {},
   "source": [
    "# study kur\n",
    "- run kur in jupyter notebook "
   ]
  },
  {
   "cell_type": "markdown",
   "metadata": {},
   "source": [
    "## More questions on Kur documents\n",
    "- please [install Hypothes.is Chrome addon]("
   ]
  }
 ],
 "metadata": {
  "kernelspec": {
   "display_name": "Python 3",
   "language": "python",
   "name": "python3"
  },
  "language_info": {
   "codemirror_mode": {
    "name": "ipython",
    "version": 3
   },
   "file_extension": ".py",
   "mimetype": "text/x-python",
   "name": "python",
   "nbconvert_exporter": "python",
   "pygments_lexer": "ipython3",
   "version": "3.5.3"
  }
 },
 "nbformat": 4,
 "nbformat_minor": 1
}
